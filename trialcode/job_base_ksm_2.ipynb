{
  "nbformat": 4,
  "nbformat_minor": 0,
  "metadata": {
    "colab": {
      "name": "job_base_ksm_2",
      "provenance": [],
      "collapsed_sections": [
        "JuS24GmtJqMS",
        "eeyRIfRgJ4vI",
        "I67sgHNaDlQq",
        "EULqb_2_KHZZ",
        "N0rfvc6dKTs_",
        "eIU3aDURKW0X",
        "2Fh3wgmJKYii",
        "ty1x7bXOKbgU",
        "HFDBmvjeKkB_",
        "AN5Duv4rOCzQ"
      ]
    },
    "kernelspec": {
      "name": "python3",
      "display_name": "Python 3"
    },
    "language_info": {
      "name": "python"
    }
  },
  "cells": [
    {
      "cell_type": "markdown",
      "source": [
        "## 초기 setting"
      ],
      "metadata": {
        "id": "JuS24GmtJqMS"
      }
    },
    {
      "cell_type": "code",
      "source": [
        "from google import colab\n",
        "\n",
        "colab.drive.mount(\"/content/drive\")"
      ],
      "metadata": {
        "colab": {
          "base_uri": "https://localhost:8080/"
        },
        "id": "wu_FZAuQLSyy",
        "outputId": "5428344d-a640-42dc-9835-f16dee4f7413"
      },
      "execution_count": 1,
      "outputs": [
        {
          "output_type": "stream",
          "name": "stdout",
          "text": [
            "Mounted at /content/drive\n"
          ]
        }
      ]
    },
    {
      "cell_type": "code",
      "source": [
        "data_path = '/content/drive/Shareddrives/JobCare/Jobcare_data/'\n",
        "submit_path = '/content/drive/Shareddrives/JobCare/submit/'\n",
        "SEED = 42"
      ],
      "metadata": {
        "id": "mGzVVm7jLaY9"
      },
      "execution_count": 2,
      "outputs": []
    },
    {
      "cell_type": "code",
      "source": [
        "import os\n",
        "import sys\n",
        "import platform\n",
        "import random\n",
        "import math\n",
        "from typing import List ,Dict, Tuple\n",
        "\n",
        "import pandas as pd\n",
        "import numpy as np\n",
        " \n",
        "import sklearn \n",
        "from sklearn.model_selection import StratifiedKFold , KFold\n",
        "from sklearn.metrics import f1_score "
      ],
      "metadata": {
        "id": "rcAtBVKSMEok"
      },
      "execution_count": 3,
      "outputs": []
    },
    {
      "cell_type": "code",
      "source": [
        "!pip install catboost"
      ],
      "metadata": {
        "colab": {
          "base_uri": "https://localhost:8080/"
        },
        "id": "W7DQjTMIUO9A",
        "outputId": "2828b3aa-b537-467b-a8c4-6d142ddcc65f"
      },
      "execution_count": 4,
      "outputs": [
        {
          "output_type": "stream",
          "name": "stdout",
          "text": [
            "Collecting catboost\n",
            "  Downloading catboost-1.0.4-cp37-none-manylinux1_x86_64.whl (76.1 MB)\n",
            "\u001b[K     |████████████████████████████████| 76.1 MB 1.2 MB/s \n",
            "\u001b[?25hRequirement already satisfied: plotly in /usr/local/lib/python3.7/dist-packages (from catboost) (4.4.1)\n",
            "Requirement already satisfied: matplotlib in /usr/local/lib/python3.7/dist-packages (from catboost) (3.2.2)\n",
            "Requirement already satisfied: pandas>=0.24.0 in /usr/local/lib/python3.7/dist-packages (from catboost) (1.1.5)\n",
            "Requirement already satisfied: six in /usr/local/lib/python3.7/dist-packages (from catboost) (1.15.0)\n",
            "Requirement already satisfied: numpy>=1.16.0 in /usr/local/lib/python3.7/dist-packages (from catboost) (1.19.5)\n",
            "Requirement already satisfied: graphviz in /usr/local/lib/python3.7/dist-packages (from catboost) (0.10.1)\n",
            "Requirement already satisfied: scipy in /usr/local/lib/python3.7/dist-packages (from catboost) (1.4.1)\n",
            "Requirement already satisfied: pytz>=2017.2 in /usr/local/lib/python3.7/dist-packages (from pandas>=0.24.0->catboost) (2018.9)\n",
            "Requirement already satisfied: python-dateutil>=2.7.3 in /usr/local/lib/python3.7/dist-packages (from pandas>=0.24.0->catboost) (2.8.2)\n",
            "Requirement already satisfied: pyparsing!=2.0.4,!=2.1.2,!=2.1.6,>=2.0.1 in /usr/local/lib/python3.7/dist-packages (from matplotlib->catboost) (3.0.6)\n",
            "Requirement already satisfied: cycler>=0.10 in /usr/local/lib/python3.7/dist-packages (from matplotlib->catboost) (0.11.0)\n",
            "Requirement already satisfied: kiwisolver>=1.0.1 in /usr/local/lib/python3.7/dist-packages (from matplotlib->catboost) (1.3.2)\n",
            "Requirement already satisfied: retrying>=1.3.3 in /usr/local/lib/python3.7/dist-packages (from plotly->catboost) (1.3.3)\n",
            "Installing collected packages: catboost\n",
            "Successfully installed catboost-1.0.4\n"
          ]
        }
      ]
    },
    {
      "cell_type": "code",
      "source": [
        "train_data = pd.read_csv(f'{data_path}train.csv')\n",
        "test_data = pd.read_csv(f'{data_path}test.csv')\n",
        "\n",
        "code_d = pd.read_csv(f'{data_path}속성_D_코드.csv')\n",
        "code_h = pd.read_csv(f'{data_path}속성_H_코드.csv')\n",
        "code_l = pd.read_csv(f'{data_path}속성_L_코드.csv')\n",
        "\n",
        "train_data.shape , test_data.shape"
      ],
      "metadata": {
        "colab": {
          "base_uri": "https://localhost:8080/"
        },
        "id": "j2_mUOikMJd9",
        "outputId": "49f7e38c-8357-40f7-ea1f-24d87f426395"
      },
      "execution_count": 5,
      "outputs": [
        {
          "output_type": "execute_result",
          "data": {
            "text/plain": [
              "((501951, 35), (46404, 34))"
            ]
          },
          "metadata": {},
          "execution_count": 5
        }
      ]
    },
    {
      "cell_type": "code",
      "source": [
        "code_d.columns= [\"attribute_d\",\"attribute_d_d\",\"attribute_d_s\",\"attribute_d_m\",\"attribute_d_l\"]\n",
        "code_h.columns= [\"attribute_h\",\"attribute_h_p\",\"attribute_h_l\"]\n",
        "code_l.columns= [\"attribute_l\",\"attribute_l_d\",\"attribute_l_s\",\"attribute_l_m\",\"attribute_l_l\"]"
      ],
      "metadata": {
        "id": "NTHtrZpmMV8J"
      },
      "execution_count": 6,
      "outputs": []
    },
    {
      "cell_type": "code",
      "source": [
        "#데이터 merge\n",
        "def merge_codes(df:pd.DataFrame,df_code:pd.DataFrame,col:str)->pd.DataFrame:\n",
        "    df = df.copy()\n",
        "    df_code = df_code.copy()\n",
        "    df_code = df_code.add_prefix(f\"{col}_\")\n",
        "    df_code.columns.values[0] = col\n",
        "    return pd.merge(df,df_code,how=\"left\",on=col)"
      ],
      "metadata": {
        "id": "J8onJoNVNO4s"
      },
      "execution_count": 7,
      "outputs": []
    },
    {
      "cell_type": "code",
      "source": [
        "def preprocess_data(\n",
        "                    df:pd.DataFrame,is_train:bool = True, cols_merge:List[Tuple[str,pd.DataFrame]] = []  , cols_equi:List[Tuple[str,str]]= [] ,\n",
        "                    cols_drop:List[str] = [\"id\",\"person_prefer_f\",\"person_prefer_g\" ,\"contents_open_dt\"]\n",
        "                    )->Tuple[pd.DataFrame,np.ndarray]:\n",
        "    df = df.copy()\n",
        "\n",
        "    y_data = None\n",
        "    if is_train:\n",
        "        y_data = df[\"target\"].to_numpy()\n",
        "        df = df.drop(columns=\"target\")\n",
        "\n",
        "    for col, df_code in cols_merge:\n",
        "        df = merge_codes(df,df_code,col)\n",
        "\n",
        "    cols = df.select_dtypes(bool).columns.tolist()\n",
        "    df[cols] = df[cols].astype(int)\n",
        "\n",
        "    for col1, col2 in cols_equi:\n",
        "        df[f\"{col1}_{col2}\"] = (df[col1] == df[col2] ).astype(int)\n",
        "\n",
        "    df = df.drop(columns=cols_drop)\n",
        "    return (df , y_data)"
      ],
      "metadata": {
        "id": "JicgOeUaNS27"
      },
      "execution_count": 8,
      "outputs": []
    },
    {
      "cell_type": "code",
      "source": [
        "# 소분류 중분류 대분류 속성코드 merge 컬럼명 및 데이터 프레임 리스트\n",
        "cols_merge = [\n",
        "              (\"person_prefer_d_1\" , code_d),\n",
        "              (\"person_prefer_d_2\" , code_d),\n",
        "              (\"person_prefer_d_3\" , code_d),\n",
        "              (\"contents_attribute_d\" , code_d),\n",
        "              (\"person_prefer_h_1\" , code_h),\n",
        "              (\"person_prefer_h_2\" , code_h),\n",
        "              (\"person_prefer_h_3\" , code_h),\n",
        "              (\"contents_attribute_h\" , code_h),\n",
        "              (\"contents_attribute_l\" , code_l),\n",
        "] \n",
        "\n",
        "# 회원 속성과 콘텐츠 속성의 동일한 코드 여부에 대한 컬럼명 리스트\n",
        "cols_equi = [\n",
        "\n",
        "    (\"contents_attribute_c\",\"person_prefer_c\"),\n",
        "    (\"contents_attribute_e\",\"person_prefer_e\"),\n",
        "\n",
        "    (\"person_prefer_d_2_attribute_d_s\" , \"contents_attribute_d_attribute_d_s\"),\n",
        "    (\"person_prefer_d_2_attribute_d_m\" , \"contents_attribute_d_attribute_d_m\"),\n",
        "    (\"person_prefer_d_2_attribute_d_l\" , \"contents_attribute_d_attribute_d_l\"),\n",
        "    (\"person_prefer_d_3_attribute_d_s\" , \"contents_attribute_d_attribute_d_s\"),\n",
        "    (\"person_prefer_d_3_attribute_d_m\" , \"contents_attribute_d_attribute_d_m\"),\n",
        "    (\"person_prefer_d_3_attribute_d_l\" , \"contents_attribute_d_attribute_d_l\"),\n",
        "\n",
        "    (\"person_prefer_h_1_attribute_h_p\" , \"contents_attribute_h_attribute_h_p\"),\n",
        "    (\"person_prefer_h_2_attribute_h_p\" , \"contents_attribute_h_attribute_h_p\"),\n",
        "    (\"person_prefer_h_3_attribute_h_p\" , \"contents_attribute_h_attribute_h_p\"),\n",
        "    (\"person_prefer_h_1_attribute_h_l\" , \"contents_attribute_h_attribute_h_l\"),\n",
        "    (\"person_prefer_h_2_attribute_h_l\" , \"contents_attribute_h_attribute_h_l\"),\n",
        "    (\"person_prefer_h_3_attribute_h_l\" , \"contents_attribute_h_attribute_h_l\"),\n",
        "\n",
        "]\n",
        "\n",
        "# 학습에 필요없는 컬럼 리스트\n",
        "cols_drop = [\"id\",\"person_prefer_f\",\"person_prefer_g\",\"contents_open_dt\",\"contents_rn\",\"person_rn\"]  #\"contents_rn\"\n"
      ],
      "metadata": {
        "id": "S0pvAnZwNZ7N"
      },
      "execution_count": 9,
      "outputs": []
    },
    {
      "cell_type": "code",
      "source": [
        "x_train, y_train = preprocess_data(train_data, cols_merge = cols_merge , cols_equi= cols_equi , cols_drop = cols_drop)\n",
        "x_test, _ = preprocess_data(test_data,is_train = False, cols_merge = cols_merge , cols_equi= cols_equi  , cols_drop = cols_drop)\n",
        "x_train.shape , y_train.shape , x_test.shape"
      ],
      "metadata": {
        "colab": {
          "base_uri": "https://localhost:8080/"
        },
        "id": "2Qsk56yzNi0f",
        "outputId": "cc7d5a9b-02fc-4b45-d1e5-3c4193195942"
      },
      "execution_count": 10,
      "outputs": [
        {
          "output_type": "execute_result",
          "data": {
            "text/plain": [
              "((501951, 70), (501951,), (46404, 70))"
            ]
          },
          "metadata": {},
          "execution_count": 10
        }
      ]
    },
    {
      "cell_type": "markdown",
      "source": [
        "## modeling function"
      ],
      "metadata": {
        "id": "A4RtxL13JyIS"
      }
    },
    {
      "cell_type": "code",
      "source": [
        "# CatBoost 모델링\n",
        "from catboost import Pool,CatBoostClassifier\n",
        "from sklearn.metrics import f1_score \n",
        "\n",
        "def catboost_modeling(x_train, y_train, x_test, grow_policy, depth, learning_rate, n): #l2_leaf_reg, random_seed\n",
        "  sco = []\n",
        "  models = []\n",
        "  # 빈 Series인 test_pred 생성\n",
        "  test_pred = pd.Series([0 for x in range(len(x_test))], index=x_test.index)\n",
        "  \n",
        "  # 10-fold 모델링을 n회 반복할 것\n",
        "  for i in range(n):\n",
        "    kf = KFold(n_splits=10,shuffle = True, random_state=42)\n",
        "    for train_index, valid_index in kf.split(x_train):\n",
        "      train_X, train_y = x_train.iloc[train_index], y_train[train_index]\n",
        "      valid_X, valid_y = x_train.iloc[valid_index], y_train[valid_index]\n",
        "\n",
        "     \n",
        "      \n",
        "      # catBoost(grow_policy='Depthwise')\n",
        "      model = CatBoostClassifier(eval_metric = 'F1',              # AUC로 성능 측정 -> F1 로 변경\n",
        "                                 iterations =15000,               # 반복횟수 최대 25000 #7000정도로 바꿔도될듯\n",
        "                                 metric_period = 2500,            # 중간결과 출력X\n",
        "                                 early_stopping_rounds = 4000,     # 1000iteration 동안 AUC 증가 없으면 학습 중단\n",
        "                                 task_type = 'GPU',                # GPU 사용\n",
        "                                 grow_policy = grow_policy,        # 트리 노드 생성 방식\n",
        "                                                                   # 1) Depthwise(지정한 depth에 이를 때까지 level 순으로 노드 분할)\n",
        "                                                                   # 2) Lossguide(loss 변화가 큰 순으로 노드 분할)\n",
        "                                 depth = depth,                    # 트리 깊이\n",
        "                                 learning_rate = learning_rate,    # 러닝레이트\n",
        "                                 #l2_leaf_reg = l2_leaf_reg,        # L2 정규화\n",
        "                                 #random_seed = random_seed+i,      # 랜덤시드 고정\n",
        "                                 )\n",
        "      #model.load_model(\"/content/drive/Shareddrives/JobCare/KSM_code/saveModel.cbm\")\n",
        "      # 모델 학습\n",
        "      model.fit(train_X, train_y, eval_set=(valid_X, valid_y))\n",
        "      models.append(model)\n",
        "      sco.append(model.get_best_score()[\"validation\"][\"F1\"])\n",
        "      model.save_model(\"/content/drive/Shareddrives/JobCare/KSM_code/saveModel.cbm\")\n",
        "    \n",
        "      # 모델 적용\n",
        "      test_pred += model.predict_proba(x_test)[:,1] /(10*n)\n",
        "\n",
        "  scores = []\n",
        "  threshold = 0.37\n",
        "\n",
        "  for i,(tri, vai) in enumerate(kf.split(x_train) ):\n",
        "      pred_train = models[i].predict_proba(x_train.iloc[vai])[:, 1]\n",
        "      pred_train = np.where(pred_train >= threshold , 1, 0)\n",
        "      score = f1_score(y_train[vai],pred_train)\n",
        "      scores.append(score)\n",
        "    \n",
        "  # 설정된 디렉토리에 결과물 저장\n",
        "  sample_submission = pd.read_csv(f'{data_path}sample_submission.csv', index_col = 0)\n",
        "  submission = pd.DataFrame(data=test_pred, columns=sample_submission.columns, index=sample_submission.index)\n",
        "  #sample_submission.to_csv(f\"{submit_path}prediction.csv\", index=False)\n",
        "  submission.to_csv(f\"/content/drive/Shareddrives/JobCare/KSM_code/csv/2CatBoost_data3_0.37_col.csv\", index=True)\n",
        "  #{grow_policy}_{str(depth)}\n",
        "  print(sco)\n",
        "  print(np.mean(sco))\n",
        "  print(scores)\n",
        "  print(np.mean(scores))\n",
        "  return test_pred"
      ],
      "metadata": {
        "id": "OvVxeE-3oTQ9"
      },
      "execution_count": null,
      "outputs": []
    },
    {
      "cell_type": "markdown",
      "source": [
        "## modeling"
      ],
      "metadata": {
        "id": "hRu4inEeJ3j9"
      }
    },
    {
      "cell_type": "markdown",
      "source": [
        "### data1 - 실행완료 , 0, 1 변환 완료, LB = 0.6857 (망)"
      ],
      "metadata": {
        "id": "eeyRIfRgJ4vI"
      }
    },
    {
      "cell_type": "code",
      "source": [
        "data1 = catboost_modeling(x_train, y_train, x_test, 'Depthwise', 10, 0.02423, 20.35, 2014, 2)"
      ],
      "metadata": {
        "colab": {
          "base_uri": "https://localhost:8080/"
        },
        "id": "8-3OoJOapM1D",
        "outputId": "fe36ed3a-7bd6-4a87-cd18-e98bab6432c4"
      },
      "execution_count": null,
      "outputs": [
        {
          "output_type": "stream",
          "name": "stdout",
          "text": [
            "0:\tlearn: 0.6496923\ttest: 0.6359788\tbest: 0.6359788 (0)\ttotal: 109ms\tremaining: 18m 14s\n",
            "5000:\tlearn: 0.9924273\ttest: 0.7006750\tbest: 0.7006796 (4997)\ttotal: 4m 19s\tremaining: 4m 18s\n",
            "bestTest = 0.7007151544\n",
            "bestIteration = 5025\n",
            "Shrink model to first 5026 iterations.\n",
            "0:\tlearn: 0.6500806\ttest: 0.6318460\tbest: 0.6318460 (0)\ttotal: 105ms\tremaining: 17m 30s\n",
            "5000:\tlearn: 0.9923350\ttest: 0.7027591\tbest: 0.7028925 (4515)\ttotal: 4m 19s\tremaining: 4m 18s\n",
            "bestTest = 0.7028925419\n",
            "bestIteration = 4515\n",
            "Shrink model to first 4516 iterations.\n",
            "0:\tlearn: 0.6486618\ttest: 0.6310901\tbest: 0.6310901 (0)\ttotal: 105ms\tremaining: 17m 28s\n",
            "5000:\tlearn: 0.9924777\ttest: 0.7009494\tbest: 0.7010884 (4766)\ttotal: 4m 17s\tremaining: 4m 17s\n",
            "bestTest = 0.7010883987\n",
            "bestIteration = 4766\n",
            "Shrink model to first 4767 iterations.\n",
            "0:\tlearn: 0.6493526\ttest: 0.6320582\tbest: 0.6320582 (0)\ttotal: 105ms\tremaining: 17m 26s\n",
            "5000:\tlearn: 0.9923665\ttest: 0.7004802\tbest: 0.7010312 (4084)\ttotal: 4m 17s\tremaining: 4m 17s\n",
            "bestTest = 0.701031208\n",
            "bestIteration = 4084\n",
            "Shrink model to first 4085 iterations.\n",
            "0:\tlearn: 0.6493253\ttest: 0.6373293\tbest: 0.6373293 (0)\ttotal: 103ms\tremaining: 17m 13s\n",
            "5000:\tlearn: 0.9923343\ttest: 0.7023323\tbest: 0.7025617 (4203)\ttotal: 4m 18s\tremaining: 4m 18s\n",
            "bestTest = 0.7025616765\n",
            "bestIteration = 4203\n",
            "Shrink model to first 4204 iterations.\n",
            "0:\tlearn: 0.6488696\ttest: 0.6367721\tbest: 0.6367721 (0)\ttotal: 107ms\tremaining: 17m 46s\n",
            "5000:\tlearn: 0.9924338\ttest: 0.7044050\tbest: 0.7047191 (4335)\ttotal: 4m 19s\tremaining: 4m 19s\n",
            "bestTest = 0.7047190666\n",
            "bestIteration = 4335\n",
            "Shrink model to first 4336 iterations.\n",
            "0:\tlearn: 0.6497951\ttest: 0.6363141\tbest: 0.6363141 (0)\ttotal: 104ms\tremaining: 17m 18s\n",
            "5000:\tlearn: 0.9924162\ttest: 0.7036780\tbest: 0.7039828 (4458)\ttotal: 4m 19s\tremaining: 4m 19s\n",
            "bestTest = 0.70398283\n",
            "bestIteration = 4458\n",
            "Shrink model to first 4459 iterations.\n",
            "0:\tlearn: 0.6509462\ttest: 0.6354535\tbest: 0.6354535 (0)\ttotal: 105ms\tremaining: 17m 33s\n",
            "bestTest = 0.6998352408\n",
            "bestIteration = 3889\n",
            "Shrink model to first 3890 iterations.\n",
            "0:\tlearn: 0.6499900\ttest: 0.6345764\tbest: 0.6345764 (0)\ttotal: 104ms\tremaining: 17m 19s\n",
            "5000:\tlearn: 0.9924216\ttest: 0.7032305\tbest: 0.7032962 (4746)\ttotal: 4m 17s\tremaining: 4m 17s\n",
            "bestTest = 0.7033388913\n",
            "bestIteration = 5064\n",
            "Shrink model to first 5065 iterations.\n",
            "0:\tlearn: 0.6498189\ttest: 0.6313287\tbest: 0.6313287 (0)\ttotal: 114ms\tremaining: 18m 56s\n",
            "5000:\tlearn: 0.9922962\ttest: 0.7019107\tbest: 0.7019267 (4998)\ttotal: 4m 16s\tremaining: 4m 16s\n",
            "bestTest = 0.7021447718\n",
            "bestIteration = 6611\n",
            "Shrink model to first 6612 iterations.\n",
            "0:\tlearn: 0.6484072\ttest: 0.6349257\tbest: 0.6349257 (0)\ttotal: 105ms\tremaining: 17m 25s\n",
            "5000:\tlearn: 0.9925293\ttest: 0.7018727\tbest: 0.7019961 (4315)\ttotal: 4m 15s\tremaining: 4m 15s\n",
            "bestTest = 0.7019961476\n",
            "bestIteration = 4315\n",
            "Shrink model to first 4316 iterations.\n",
            "0:\tlearn: 0.6489103\ttest: 0.6385888\tbest: 0.6385888 (0)\ttotal: 113ms\tremaining: 18m 51s\n",
            "5000:\tlearn: 0.9924808\ttest: 0.7035469\tbest: 0.7036519 (4426)\ttotal: 4m 16s\tremaining: 4m 16s\n",
            "bestTest = 0.7036519051\n",
            "bestIteration = 4426\n",
            "Shrink model to first 4427 iterations.\n",
            "0:\tlearn: 0.6490017\ttest: 0.6336284\tbest: 0.6336284 (0)\ttotal: 106ms\tremaining: 17m 38s\n",
            "5000:\tlearn: 0.9922944\ttest: 0.7007905\tbest: 0.7010521 (4268)\ttotal: 4m 15s\tremaining: 4m 15s\n",
            "bestTest = 0.7010521293\n",
            "bestIteration = 4268\n",
            "Shrink model to first 4269 iterations.\n",
            "0:\tlearn: 0.6489767\ttest: 0.6372378\tbest: 0.6372378 (0)\ttotal: 120ms\tremaining: 20m 3s\n",
            "bestTest = 0.7053062916\n",
            "bestIteration = 3815\n",
            "Shrink model to first 3816 iterations.\n",
            "0:\tlearn: 0.6501959\ttest: 0.6308517\tbest: 0.6308517 (0)\ttotal: 122ms\tremaining: 20m 15s\n",
            "5000:\tlearn: 0.9922945\ttest: 0.7009684\tbest: 0.7010154 (4928)\ttotal: 4m 16s\tremaining: 4m 16s\n",
            "bestTest = 0.7010269761\n",
            "bestIteration = 5046\n",
            "Shrink model to first 5047 iterations.\n",
            "0:\tlearn: 0.6506745\ttest: 0.6324715\tbest: 0.6324715 (0)\ttotal: 106ms\tremaining: 17m 43s\n",
            "5000:\tlearn: 0.9922525\ttest: 0.7006601\tbest: 0.7010153 (4192)\ttotal: 4m 16s\tremaining: 4m 16s\n",
            "bestTest = 0.7010152936\n",
            "bestIteration = 4192\n",
            "Shrink model to first 4193 iterations.\n",
            "0:\tlearn: 0.6493855\ttest: 0.6325882\tbest: 0.6325882 (0)\ttotal: 111ms\tremaining: 18m 25s\n",
            "5000:\tlearn: 0.9922994\ttest: 0.7022859\tbest: 0.7025708 (4464)\ttotal: 4m 16s\tremaining: 4m 16s\n",
            "bestTest = 0.702570796\n",
            "bestIteration = 4464\n",
            "Shrink model to first 4465 iterations.\n",
            "0:\tlearn: 0.6492912\ttest: 0.6287927\tbest: 0.6287927 (0)\ttotal: 104ms\tremaining: 17m 18s\n",
            "5000:\tlearn: 0.9923776\ttest: 0.7025163\tbest: 0.7025374 (4984)\ttotal: 4m 16s\tremaining: 4m 16s\n",
            "bestTest = 0.7028114796\n",
            "bestIteration = 5521\n",
            "Shrink model to first 5522 iterations.\n",
            "0:\tlearn: 0.6485394\ttest: 0.6353677\tbest: 0.6353677 (0)\ttotal: 103ms\tremaining: 17m 10s\n",
            "bestTest = 0.7070267797\n",
            "bestIteration = 3932\n",
            "Shrink model to first 3933 iterations.\n",
            "0:\tlearn: 0.6494474\ttest: 0.6305915\tbest: 0.6305915 (0)\ttotal: 106ms\tremaining: 17m 38s\n",
            "5000:\tlearn: 0.9924837\ttest: 0.6977070\tbest: 0.6979867 (4393)\ttotal: 4m 17s\tremaining: 4m 16s\n",
            "bestTest = 0.697986722\n",
            "bestIteration = 4393\n",
            "Shrink model to first 4394 iterations.\n",
            "[0.7007151544094086, 0.702892541885376, 0.7010883986949921, 0.7010312080383301, 0.7025616765022278, 0.704719066619873, 0.7039828300476074, 0.6998352408409119, 0.7033388912677765, 0.7021447718143463, 0.7019961476325989, 0.7036519050598145, 0.7010521292686462, 0.7053062915802002, 0.701026976108551, 0.701015293598175, 0.7025707960128784, 0.7028114795684814, 0.7070267796516418, 0.6979867219924927]\n",
            "0.7023377150297165\n",
            "[0.9252273625939106, 0.9179532335387927, 0.9223519204984619, 0.9091409799948856, 0.9114898295766904, 0.9150224038990645, 0.91858431426494, 0.9056145437448576, 0.9267645252669321, 0.9444838735115528]\n",
            "0.9196632986890089\n"
          ]
        }
      ]
    },
    {
      "cell_type": "code",
      "source": [
        "list = [0.9252273625939106, 0.9179532335387927, 0.9223519204984619, 0.9091409799948856, 0.9114898295766904, 0.9150224038990645, 0.91858431426494, 0.9056145437448576, 0.9267645252669321, 0.9444838735115528,\n",
        "0.9196632986890089]\n",
        "print(np.mean(list))"
      ],
      "metadata": {
        "colab": {
          "base_uri": "https://localhost:8080/"
        },
        "id": "6UQ3QV7RBZxC",
        "outputId": "08327d23-6416-480a-9889-1c818b896561"
      },
      "execution_count": null,
      "outputs": [
        {
          "output_type": "stream",
          "name": "stdout",
          "text": [
            "0.919663298689009\n"
          ]
        }
      ]
    },
    {
      "cell_type": "markdown",
      "source": [
        "data target 0, 1로 변경"
      ],
      "metadata": {
        "id": "APY75D8IJ-KE"
      }
    },
    {
      "cell_type": "code",
      "source": [
        "datas = pd.read_csv(\"/content/drive/Shareddrives/JobCare/submit/CatBoost_0.5.csv\")\n",
        "data_fin = pd.DataFrame(datas)\n",
        "\n",
        "data_fin.columns = datas.columns\n",
        "\n",
        "print(data_fin)\n",
        "\n",
        "pred_list = data_fin['target']\n",
        "for i in range(len(pred_list)):\n",
        "  if pred_list[i] >= 0.5:\n",
        "    pred_list[i] = 1\n",
        "  else:\n",
        "    pred_list[i] = 0\n",
        "pred_list\n",
        "\n",
        "sample_submission = pd.read_csv(f'{data_path}sample_submission.csv')\n",
        "sample_submission['target'] = pred_list\n",
        "sample_submission\n",
        "sample_submission.to_csv(f\"{submit_path}KSM_0.9197_0117.csv\", index=False)"
      ],
      "metadata": {
        "id": "D4Uxwgj-yfHL",
        "colab": {
          "base_uri": "https://localhost:8080/"
        },
        "outputId": "a602e406-1e33-4ad5-f712-29903a2d3d2d"
      },
      "execution_count": null,
      "outputs": [
        {
          "output_type": "stream",
          "name": "stdout",
          "text": [
            "          id    target\n",
            "0          0  0.660364\n",
            "1          1  0.392968\n",
            "2          2  0.406774\n",
            "3          3  0.489910\n",
            "4          4  0.266767\n",
            "...      ...       ...\n",
            "46399  46399  0.731047\n",
            "46400  46400  0.536863\n",
            "46401  46401  0.655224\n",
            "46402  46402  0.696649\n",
            "46403  46403  0.544246\n",
            "\n",
            "[46404 rows x 2 columns]\n"
          ]
        },
        {
          "output_type": "stream",
          "name": "stderr",
          "text": [
            "/usr/local/lib/python3.7/dist-packages/ipykernel_launcher.py:11: SettingWithCopyWarning: \n",
            "A value is trying to be set on a copy of a slice from a DataFrame\n",
            "\n",
            "See the caveats in the documentation: https://pandas.pydata.org/pandas-docs/stable/user_guide/indexing.html#returning-a-view-versus-a-copy\n",
            "  # This is added back by InteractiveShellApp.init_path()\n",
            "/usr/local/lib/python3.7/dist-packages/ipykernel_launcher.py:13: SettingWithCopyWarning: \n",
            "A value is trying to be set on a copy of a slice from a DataFrame\n",
            "\n",
            "See the caveats in the documentation: https://pandas.pydata.org/pandas-docs/stable/user_guide/indexing.html#returning-a-view-versus-a-copy\n",
            "  del sys.path[0]\n"
          ]
        }
      ]
    },
    {
      "cell_type": "markdown",
      "source": [
        "기존 제출csv 와 차이보기"
      ],
      "metadata": {
        "id": "7giBzumjKDaF"
      }
    },
    {
      "cell_type": "code",
      "source": [
        "df_first = pd.read_csv('/content/drive/Shareddrives/JobCare/submit/prediction.csv')\n",
        "df_second = pd.read_csv('/content/drive/Shareddrives/JobCare/submit/prediction_10fold_mean.csv')\n",
        "df_third = pd.read_csv('/content/drive/Shareddrives/JobCare/submit/prediction_CatBoost_Depthwise_10.csv')\n",
        "df_here = pd.read_csv('/content/drive/Shareddrives/JobCare/submit/KSM_0.9197_0117.csv')\n",
        "\n",
        "cnt = 0\n",
        "for i in range(46404):\n",
        "  if df_first['target'][i] != df_here['target'][i]:\n",
        "    cnt+= 1\n",
        "print(cnt)\n",
        "\n",
        "cnt=0\n",
        "for i in range(46404):\n",
        "  #print(df_first['target'][i])\n",
        "  if df_second['target'][i] != df_here['target'][i] :\n",
        "    cnt+=1\n",
        "print(cnt)\n",
        "\n",
        "cnt=0\n",
        "for i in range(46404):\n",
        "  #print(df_first['target'][i])\n",
        "  if df_third['target'][i] != df_here['target'][i] :\n",
        "    cnt+=1\n",
        "print(cnt)\n"
      ],
      "metadata": {
        "colab": {
          "base_uri": "https://localhost:8080/"
        },
        "id": "XvawmNm1Ho-J",
        "outputId": "c9d7b057-bc6a-47f3-af36-d4138a9b605e"
      },
      "execution_count": null,
      "outputs": [
        {
          "output_type": "stream",
          "name": "stdout",
          "text": [
            "12286\n",
            "13686\n",
            "7574\n"
          ]
        }
      ]
    },
    {
      "cell_type": "markdown",
      "source": [
        "### data1 - 실행완료(threshold = 0.5) , 0, 1 변환 완료, LB = 아직\n",
        "- [0.9252273625939106, 0.9179532335387927, 0.9223519204984619, 0.9091409799948856, 0.9114898295766904, 0.9150224038990645, 0.91858431426494, 0.9056145437448576, 0.9267645252669321, 0.9444838735115528, 0.9196632986890089] "
      ],
      "metadata": {
        "id": "I67sgHNaDlQq"
      }
    },
    {
      "cell_type": "code",
      "source": [
        "data1 = catboost_modeling(x_train, y_train, x_test, 'Depthwise', 10, 0.02423, 20.35, 2014, 2)"
      ],
      "metadata": {
        "colab": {
          "base_uri": "https://localhost:8080/"
        },
        "outputId": "fe36ed3a-7bd6-4a87-cd18-e98bab6432c4",
        "id": "xwnszXNtDlRM"
      },
      "execution_count": null,
      "outputs": [
        {
          "output_type": "stream",
          "name": "stdout",
          "text": [
            "0:\tlearn: 0.6496923\ttest: 0.6359788\tbest: 0.6359788 (0)\ttotal: 109ms\tremaining: 18m 14s\n",
            "5000:\tlearn: 0.9924273\ttest: 0.7006750\tbest: 0.7006796 (4997)\ttotal: 4m 19s\tremaining: 4m 18s\n",
            "bestTest = 0.7007151544\n",
            "bestIteration = 5025\n",
            "Shrink model to first 5026 iterations.\n",
            "0:\tlearn: 0.6500806\ttest: 0.6318460\tbest: 0.6318460 (0)\ttotal: 105ms\tremaining: 17m 30s\n",
            "5000:\tlearn: 0.9923350\ttest: 0.7027591\tbest: 0.7028925 (4515)\ttotal: 4m 19s\tremaining: 4m 18s\n",
            "bestTest = 0.7028925419\n",
            "bestIteration = 4515\n",
            "Shrink model to first 4516 iterations.\n",
            "0:\tlearn: 0.6486618\ttest: 0.6310901\tbest: 0.6310901 (0)\ttotal: 105ms\tremaining: 17m 28s\n",
            "5000:\tlearn: 0.9924777\ttest: 0.7009494\tbest: 0.7010884 (4766)\ttotal: 4m 17s\tremaining: 4m 17s\n",
            "bestTest = 0.7010883987\n",
            "bestIteration = 4766\n",
            "Shrink model to first 4767 iterations.\n",
            "0:\tlearn: 0.6493526\ttest: 0.6320582\tbest: 0.6320582 (0)\ttotal: 105ms\tremaining: 17m 26s\n",
            "5000:\tlearn: 0.9923665\ttest: 0.7004802\tbest: 0.7010312 (4084)\ttotal: 4m 17s\tremaining: 4m 17s\n",
            "bestTest = 0.701031208\n",
            "bestIteration = 4084\n",
            "Shrink model to first 4085 iterations.\n",
            "0:\tlearn: 0.6493253\ttest: 0.6373293\tbest: 0.6373293 (0)\ttotal: 103ms\tremaining: 17m 13s\n",
            "5000:\tlearn: 0.9923343\ttest: 0.7023323\tbest: 0.7025617 (4203)\ttotal: 4m 18s\tremaining: 4m 18s\n",
            "bestTest = 0.7025616765\n",
            "bestIteration = 4203\n",
            "Shrink model to first 4204 iterations.\n",
            "0:\tlearn: 0.6488696\ttest: 0.6367721\tbest: 0.6367721 (0)\ttotal: 107ms\tremaining: 17m 46s\n",
            "5000:\tlearn: 0.9924338\ttest: 0.7044050\tbest: 0.7047191 (4335)\ttotal: 4m 19s\tremaining: 4m 19s\n",
            "bestTest = 0.7047190666\n",
            "bestIteration = 4335\n",
            "Shrink model to first 4336 iterations.\n",
            "0:\tlearn: 0.6497951\ttest: 0.6363141\tbest: 0.6363141 (0)\ttotal: 104ms\tremaining: 17m 18s\n",
            "5000:\tlearn: 0.9924162\ttest: 0.7036780\tbest: 0.7039828 (4458)\ttotal: 4m 19s\tremaining: 4m 19s\n",
            "bestTest = 0.70398283\n",
            "bestIteration = 4458\n",
            "Shrink model to first 4459 iterations.\n",
            "0:\tlearn: 0.6509462\ttest: 0.6354535\tbest: 0.6354535 (0)\ttotal: 105ms\tremaining: 17m 33s\n",
            "bestTest = 0.6998352408\n",
            "bestIteration = 3889\n",
            "Shrink model to first 3890 iterations.\n",
            "0:\tlearn: 0.6499900\ttest: 0.6345764\tbest: 0.6345764 (0)\ttotal: 104ms\tremaining: 17m 19s\n",
            "5000:\tlearn: 0.9924216\ttest: 0.7032305\tbest: 0.7032962 (4746)\ttotal: 4m 17s\tremaining: 4m 17s\n",
            "bestTest = 0.7033388913\n",
            "bestIteration = 5064\n",
            "Shrink model to first 5065 iterations.\n",
            "0:\tlearn: 0.6498189\ttest: 0.6313287\tbest: 0.6313287 (0)\ttotal: 114ms\tremaining: 18m 56s\n",
            "5000:\tlearn: 0.9922962\ttest: 0.7019107\tbest: 0.7019267 (4998)\ttotal: 4m 16s\tremaining: 4m 16s\n",
            "bestTest = 0.7021447718\n",
            "bestIteration = 6611\n",
            "Shrink model to first 6612 iterations.\n",
            "0:\tlearn: 0.6484072\ttest: 0.6349257\tbest: 0.6349257 (0)\ttotal: 105ms\tremaining: 17m 25s\n",
            "5000:\tlearn: 0.9925293\ttest: 0.7018727\tbest: 0.7019961 (4315)\ttotal: 4m 15s\tremaining: 4m 15s\n",
            "bestTest = 0.7019961476\n",
            "bestIteration = 4315\n",
            "Shrink model to first 4316 iterations.\n",
            "0:\tlearn: 0.6489103\ttest: 0.6385888\tbest: 0.6385888 (0)\ttotal: 113ms\tremaining: 18m 51s\n",
            "5000:\tlearn: 0.9924808\ttest: 0.7035469\tbest: 0.7036519 (4426)\ttotal: 4m 16s\tremaining: 4m 16s\n",
            "bestTest = 0.7036519051\n",
            "bestIteration = 4426\n",
            "Shrink model to first 4427 iterations.\n",
            "0:\tlearn: 0.6490017\ttest: 0.6336284\tbest: 0.6336284 (0)\ttotal: 106ms\tremaining: 17m 38s\n",
            "5000:\tlearn: 0.9922944\ttest: 0.7007905\tbest: 0.7010521 (4268)\ttotal: 4m 15s\tremaining: 4m 15s\n",
            "bestTest = 0.7010521293\n",
            "bestIteration = 4268\n",
            "Shrink model to first 4269 iterations.\n",
            "0:\tlearn: 0.6489767\ttest: 0.6372378\tbest: 0.6372378 (0)\ttotal: 120ms\tremaining: 20m 3s\n",
            "bestTest = 0.7053062916\n",
            "bestIteration = 3815\n",
            "Shrink model to first 3816 iterations.\n",
            "0:\tlearn: 0.6501959\ttest: 0.6308517\tbest: 0.6308517 (0)\ttotal: 122ms\tremaining: 20m 15s\n",
            "5000:\tlearn: 0.9922945\ttest: 0.7009684\tbest: 0.7010154 (4928)\ttotal: 4m 16s\tremaining: 4m 16s\n",
            "bestTest = 0.7010269761\n",
            "bestIteration = 5046\n",
            "Shrink model to first 5047 iterations.\n",
            "0:\tlearn: 0.6506745\ttest: 0.6324715\tbest: 0.6324715 (0)\ttotal: 106ms\tremaining: 17m 43s\n",
            "5000:\tlearn: 0.9922525\ttest: 0.7006601\tbest: 0.7010153 (4192)\ttotal: 4m 16s\tremaining: 4m 16s\n",
            "bestTest = 0.7010152936\n",
            "bestIteration = 4192\n",
            "Shrink model to first 4193 iterations.\n",
            "0:\tlearn: 0.6493855\ttest: 0.6325882\tbest: 0.6325882 (0)\ttotal: 111ms\tremaining: 18m 25s\n",
            "5000:\tlearn: 0.9922994\ttest: 0.7022859\tbest: 0.7025708 (4464)\ttotal: 4m 16s\tremaining: 4m 16s\n",
            "bestTest = 0.702570796\n",
            "bestIteration = 4464\n",
            "Shrink model to first 4465 iterations.\n",
            "0:\tlearn: 0.6492912\ttest: 0.6287927\tbest: 0.6287927 (0)\ttotal: 104ms\tremaining: 17m 18s\n",
            "5000:\tlearn: 0.9923776\ttest: 0.7025163\tbest: 0.7025374 (4984)\ttotal: 4m 16s\tremaining: 4m 16s\n",
            "bestTest = 0.7028114796\n",
            "bestIteration = 5521\n",
            "Shrink model to first 5522 iterations.\n",
            "0:\tlearn: 0.6485394\ttest: 0.6353677\tbest: 0.6353677 (0)\ttotal: 103ms\tremaining: 17m 10s\n",
            "bestTest = 0.7070267797\n",
            "bestIteration = 3932\n",
            "Shrink model to first 3933 iterations.\n",
            "0:\tlearn: 0.6494474\ttest: 0.6305915\tbest: 0.6305915 (0)\ttotal: 106ms\tremaining: 17m 38s\n",
            "5000:\tlearn: 0.9924837\ttest: 0.6977070\tbest: 0.6979867 (4393)\ttotal: 4m 17s\tremaining: 4m 16s\n",
            "bestTest = 0.697986722\n",
            "bestIteration = 4393\n",
            "Shrink model to first 4394 iterations.\n",
            "[0.7007151544094086, 0.702892541885376, 0.7010883986949921, 0.7010312080383301, 0.7025616765022278, 0.704719066619873, 0.7039828300476074, 0.6998352408409119, 0.7033388912677765, 0.7021447718143463, 0.7019961476325989, 0.7036519050598145, 0.7010521292686462, 0.7053062915802002, 0.701026976108551, 0.701015293598175, 0.7025707960128784, 0.7028114795684814, 0.7070267796516418, 0.6979867219924927]\n",
            "0.7023377150297165\n",
            "[0.9252273625939106, 0.9179532335387927, 0.9223519204984619, 0.9091409799948856, 0.9114898295766904, 0.9150224038990645, 0.91858431426494, 0.9056145437448576, 0.9267645252669321, 0.9444838735115528]\n",
            "0.9196632986890089\n"
          ]
        }
      ]
    },
    {
      "cell_type": "code",
      "source": [
        "list = [0.9252273625939106, 0.9179532335387927, 0.9223519204984619, 0.9091409799948856, 0.9114898295766904, 0.9150224038990645, 0.91858431426494, 0.9056145437448576, 0.9267645252669321, 0.9444838735115528,\n",
        "0.9196632986890089]\n",
        "print(np.mean(list))"
      ],
      "metadata": {
        "colab": {
          "base_uri": "https://localhost:8080/"
        },
        "outputId": "08327d23-6416-480a-9889-1c818b896561",
        "id": "gOKcgNAvDlRP"
      },
      "execution_count": null,
      "outputs": [
        {
          "output_type": "stream",
          "name": "stdout",
          "text": [
            "0.919663298689009\n"
          ]
        }
      ]
    },
    {
      "cell_type": "markdown",
      "source": [
        "data target 0, 1로 변경"
      ],
      "metadata": {
        "id": "_y_h1Uv7DlRQ"
      }
    },
    {
      "cell_type": "code",
      "source": [
        "datas = pd.read_csv(\"/content/drive/Shareddrives/JobCare/submit/CatBoost_0.5.csv\")\n",
        "data_fin = pd.DataFrame(datas)\n",
        "\n",
        "data_fin.columns = datas.columns\n",
        "\n",
        "print(data_fin)\n",
        "\n",
        "pred_list = data_fin['target']\n",
        "for i in range(len(pred_list)):\n",
        "  if pred_list[i] >= 0.5:\n",
        "    pred_list[i] = 1\n",
        "  else:\n",
        "    pred_list[i] = 0\n",
        "pred_list\n",
        "\n",
        "sample_submission = pd.read_csv(f'{data_path}sample_submission.csv')\n",
        "sample_submission['target'] = pred_list\n",
        "sample_submission\n",
        "sample_submission.to_csv(f\"{submit_path}KSM_0.9197_0117.csv\", index=False)"
      ],
      "metadata": {
        "colab": {
          "base_uri": "https://localhost:8080/"
        },
        "outputId": "a602e406-1e33-4ad5-f712-29903a2d3d2d",
        "id": "cC47xKA8DlRQ"
      },
      "execution_count": null,
      "outputs": [
        {
          "output_type": "stream",
          "name": "stdout",
          "text": [
            "          id    target\n",
            "0          0  0.660364\n",
            "1          1  0.392968\n",
            "2          2  0.406774\n",
            "3          3  0.489910\n",
            "4          4  0.266767\n",
            "...      ...       ...\n",
            "46399  46399  0.731047\n",
            "46400  46400  0.536863\n",
            "46401  46401  0.655224\n",
            "46402  46402  0.696649\n",
            "46403  46403  0.544246\n",
            "\n",
            "[46404 rows x 2 columns]\n"
          ]
        },
        {
          "output_type": "stream",
          "name": "stderr",
          "text": [
            "/usr/local/lib/python3.7/dist-packages/ipykernel_launcher.py:11: SettingWithCopyWarning: \n",
            "A value is trying to be set on a copy of a slice from a DataFrame\n",
            "\n",
            "See the caveats in the documentation: https://pandas.pydata.org/pandas-docs/stable/user_guide/indexing.html#returning-a-view-versus-a-copy\n",
            "  # This is added back by InteractiveShellApp.init_path()\n",
            "/usr/local/lib/python3.7/dist-packages/ipykernel_launcher.py:13: SettingWithCopyWarning: \n",
            "A value is trying to be set on a copy of a slice from a DataFrame\n",
            "\n",
            "See the caveats in the documentation: https://pandas.pydata.org/pandas-docs/stable/user_guide/indexing.html#returning-a-view-versus-a-copy\n",
            "  del sys.path[0]\n"
          ]
        }
      ]
    },
    {
      "cell_type": "markdown",
      "source": [
        "기존 제출csv 와 차이보기"
      ],
      "metadata": {
        "id": "FbVmXkA_DlRS"
      }
    },
    {
      "cell_type": "code",
      "source": [
        "df_first = pd.read_csv('/content/drive/Shareddrives/JobCare/submit/prediction.csv')\n",
        "df_second = pd.read_csv('/content/drive/Shareddrives/JobCare/submit/prediction_10fold_mean.csv')\n",
        "df_third = pd.read_csv('/content/drive/Shareddrives/JobCare/submit/prediction_CatBoost_Depthwise_10.csv')\n",
        "df_here = pd.read_csv('/content/drive/Shareddrives/JobCare/submit/KSM_0.9197_0117.csv')\n",
        "\n",
        "cnt = 0\n",
        "for i in range(46404):\n",
        "  if df_first['target'][i] != df_here['target'][i]:\n",
        "    cnt+= 1\n",
        "print(cnt)\n",
        "\n",
        "cnt=0\n",
        "for i in range(46404):\n",
        "  #print(df_first['target'][i])\n",
        "  if df_second['target'][i] != df_here['target'][i] :\n",
        "    cnt+=1\n",
        "print(cnt)\n",
        "\n",
        "cnt=0\n",
        "for i in range(46404):\n",
        "  #print(df_first['target'][i])\n",
        "  if df_third['target'][i] != df_here['target'][i] :\n",
        "    cnt+=1\n",
        "print(cnt)\n"
      ],
      "metadata": {
        "colab": {
          "base_uri": "https://localhost:8080/"
        },
        "outputId": "c9d7b057-bc6a-47f3-af36-d4138a9b605e",
        "id": "3phKxuX1DlRS"
      },
      "execution_count": null,
      "outputs": [
        {
          "output_type": "stream",
          "name": "stdout",
          "text": [
            "12286\n",
            "13686\n",
            "7574\n"
          ]
        }
      ]
    },
    {
      "cell_type": "markdown",
      "source": [
        "### data3 - 실행중(threshold = 0.45), 'F1'으로 변경\n",
        "- [] "
      ],
      "metadata": {
        "id": "q1-5XpS6FROj"
      }
    },
    {
      "cell_type": "code",
      "source": [
        "data3 = catboost_modeling(x_train, y_train, x_test, 'Depthwise', 8, 0.008, 2) #49.99, 2022, 2) #0.01에서 변경"
      ],
      "metadata": {
        "colab": {
          "base_uri": "https://localhost:8080/"
        },
        "outputId": "a71cfaa9-9ed3-4caa-cf05-fa48d94fbb98",
        "id": "Oc4sCVBpFRO8"
      },
      "execution_count": null,
      "outputs": [
        {
          "output_type": "stream",
          "name": "stderr",
          "text": [
            "Custom logger is already specified. Specify more than one logger at same time is not thread safe."
          ]
        },
        {
          "output_type": "stream",
          "name": "stdout",
          "text": [
            "0:\tlearn: 0.6273813\ttest: 0.6221059\tbest: 0.6221059 (0)\ttotal: 53.2ms\tremaining: 13m 18s\n",
            "2500:\tlearn: 0.7010222\ttest: 0.6448194\tbest: 0.6449181 (2456)\ttotal: 1m\tremaining: 5m 2s\n",
            "5000:\tlearn: 0.7419755\ttest: 0.6496300\tbest: 0.6498610 (4804)\ttotal: 2m\tremaining: 4m\n",
            "7500:\tlearn: 0.7730700\ttest: 0.6510735\tbest: 0.6512449 (7413)\ttotal: 3m\tremaining: 3m\n",
            "10000:\tlearn: 0.7986700\ttest: 0.6511234\tbest: 0.6516798 (9726)\ttotal: 4m 1s\tremaining: 2m\n",
            "12500:\tlearn: 0.8201146\ttest: 0.6524050\tbest: 0.6526960 (11606)\ttotal: 5m 2s\tremaining: 1m\n",
            "14999:\tlearn: 0.8386476\ttest: 0.6523174\tbest: 0.6527387 (13622)\ttotal: 6m 4s\tremaining: 0us\n",
            "bestTest = 0.6527386964\n",
            "bestIteration = 13622\n",
            "Shrink model to first 13623 iterations.\n",
            "0:\tlearn: 0.6298064\ttest: 0.6293739\tbest: 0.6293739 (0)\ttotal: 45.8ms\tremaining: 11m 26s\n",
            "2500:\tlearn: 0.7013470\ttest: 0.6524608\tbest: 0.6525086 (2455)\ttotal: 1m\tremaining: 5m 2s\n",
            "5000:\tlearn: 0.7417466\ttest: 0.6593452\tbest: 0.6595725 (4991)\ttotal: 2m\tremaining: 4m 1s\n",
            "7500:\tlearn: 0.7719604\ttest: 0.6616855\tbest: 0.6619780 (7253)\ttotal: 3m\tremaining: 3m\n",
            "10000:\tlearn: 0.7975872\ttest: 0.6627140\tbest: 0.6632603 (9565)\ttotal: 4m 2s\tremaining: 2m 1s\n",
            "12500:\tlearn: 0.8193203\ttest: 0.6637094\tbest: 0.6641946 (11553)\ttotal: 5m 4s\tremaining: 1m\n",
            "14999:\tlearn: 0.8380290\ttest: 0.6639574\tbest: 0.6644678 (14465)\ttotal: 6m 5s\tremaining: 0us\n",
            "bestTest = 0.664467789\n",
            "bestIteration = 14465\n",
            "Shrink model to first 14466 iterations.\n",
            "0:\tlearn: 0.6210860\ttest: 0.6169257\tbest: 0.6169257 (0)\ttotal: 45.5ms\tremaining: 11m 22s\n",
            "2500:\tlearn: 0.7010985\ttest: 0.6510140\tbest: 0.6515754 (2368)\ttotal: 1m\tremaining: 5m 1s\n",
            "5000:\tlearn: 0.7420845\ttest: 0.6569168\tbest: 0.6570050 (4978)\ttotal: 1m 59s\tremaining: 3m 59s\n",
            "7500:\tlearn: 0.7730208\ttest: 0.6587728\tbest: 0.6589130 (7491)\ttotal: 2m 59s\tremaining: 2m 59s\n",
            "10000:\tlearn: 0.7982175\ttest: 0.6604961\tbest: 0.6607375 (9859)\ttotal: 4m\tremaining: 2m\n",
            "12500:\tlearn: 0.8198557\ttest: 0.6606243\tbest: 0.6613980 (10802)\ttotal: 5m 1s\tremaining: 1m\n",
            "bestTest = 0.6613980367\n",
            "bestIteration = 10802\n",
            "Shrink model to first 10803 iterations.\n",
            "0:\tlearn: 0.6087106\ttest: 0.6098181\tbest: 0.6098181 (0)\ttotal: 45.2ms\tremaining: 11m 18s\n",
            "2500:\tlearn: 0.7008663\ttest: 0.6493886\tbest: 0.6494468 (2361)\ttotal: 1m\tremaining: 5m\n",
            "5000:\tlearn: 0.7416846\ttest: 0.6544797\tbest: 0.6547737 (4994)\ttotal: 1m 59s\tremaining: 3m 58s\n",
            "7500:\tlearn: 0.7734375\ttest: 0.6567967\tbest: 0.6568856 (7495)\ttotal: 2m 59s\tremaining: 2m 59s\n",
            "10000:\tlearn: 0.7987508\ttest: 0.6577654\tbest: 0.6582245 (9944)\ttotal: 3m 59s\tremaining: 1m 59s\n",
            "12500:\tlearn: 0.8203540\ttest: 0.6580974\tbest: 0.6590027 (11267)\ttotal: 5m\tremaining: 1m\n",
            "14999:\tlearn: 0.8388742\ttest: 0.6585698\tbest: 0.6593731 (13630)\ttotal: 6m 1s\tremaining: 0us\n",
            "bestTest = 0.659373084\n",
            "bestIteration = 13630\n",
            "Shrink model to first 13631 iterations.\n",
            "0:\tlearn: 0.6165186\ttest: 0.6134876\tbest: 0.6134876 (0)\ttotal: 46.6ms\tremaining: 11m 39s\n",
            "2500:\tlearn: 0.7021169\ttest: 0.6483770\tbest: 0.6483791 (2490)\ttotal: 1m\tremaining: 5m\n",
            "5000:\tlearn: 0.7425281\ttest: 0.6525332\tbest: 0.6529033 (4492)\ttotal: 1m 59s\tremaining: 3m 58s\n",
            "7500:\tlearn: 0.7730790\ttest: 0.6556769\tbest: 0.6559972 (7424)\ttotal: 2m 58s\tremaining: 2m 58s\n",
            "10000:\tlearn: 0.7985226\ttest: 0.6561746\tbest: 0.6567427 (9716)\ttotal: 3m 59s\tremaining: 1m 59s\n",
            "12500:\tlearn: 0.8200536\ttest: 0.6573378\tbest: 0.6574156 (12494)\ttotal: 4m 59s\tremaining: 59.9s\n",
            "14999:\tlearn: 0.8383468\ttest: 0.6583946\tbest: 0.6588958 (14863)\ttotal: 6m\tremaining: 0us\n",
            "bestTest = 0.6588958233\n",
            "bestIteration = 14863\n",
            "Shrink model to first 14864 iterations.\n",
            "0:\tlearn: 0.6002638\ttest: 0.5942516\tbest: 0.5942516 (0)\ttotal: 46ms\tremaining: 11m 30s\n",
            "2500:\tlearn: 0.7015359\ttest: 0.6462481\tbest: 0.6462481 (2500)\ttotal: 1m\tremaining: 5m 3s\n",
            "5000:\tlearn: 0.7419853\ttest: 0.6522625\tbest: 0.6523950 (4817)\ttotal: 2m\tremaining: 4m\n",
            "7500:\tlearn: 0.7729671\ttest: 0.6554571\tbest: 0.6559220 (7225)\ttotal: 3m\tremaining: 3m\n",
            "10000:\tlearn: 0.7986170\ttest: 0.6560471\tbest: 0.6564212 (9313)\ttotal: 4m 1s\tremaining: 2m\n",
            "12500:\tlearn: 0.8201067\ttest: 0.6563337\tbest: 0.6570659 (10713)\ttotal: 5m 2s\tremaining: 1m\n",
            "14999:\tlearn: 0.8383053\ttest: 0.6573767\tbest: 0.6576577 (14867)\ttotal: 6m 4s\tremaining: 0us\n",
            "bestTest = 0.6576576577\n",
            "bestIteration = 14867\n",
            "Shrink model to first 14868 iterations.\n",
            "0:\tlearn: 0.6179736\ttest: 0.6148514\tbest: 0.6148514 (0)\ttotal: 51.2ms\tremaining: 12m 48s\n",
            "2500:\tlearn: 0.7003802\ttest: 0.6477121\tbest: 0.6477750 (2485)\ttotal: 1m\tremaining: 5m 3s\n",
            "5000:\tlearn: 0.7416441\ttest: 0.6536455\tbest: 0.6539659 (4870)\ttotal: 2m\tremaining: 4m 1s\n",
            "7500:\tlearn: 0.7727805\ttest: 0.6563314\tbest: 0.6566953 (7450)\ttotal: 3m 1s\tremaining: 3m 1s\n",
            "10000:\tlearn: 0.7980733\ttest: 0.6572521\tbest: 0.6578963 (8879)\ttotal: 4m 1s\tremaining: 2m\n",
            "12500:\tlearn: 0.8198711\ttest: 0.6567739\tbest: 0.6578963 (8879)\ttotal: 5m 2s\tremaining: 1m\n",
            "bestTest = 0.6578962508\n",
            "bestIteration = 8879\n",
            "Shrink model to first 8880 iterations.\n",
            "0:\tlearn: 0.6314171\ttest: 0.6253428\tbest: 0.6253428 (0)\ttotal: 46.8ms\tremaining: 11m 42s\n",
            "2500:\tlearn: 0.7009545\ttest: 0.6458175\tbest: 0.6460745 (2460)\ttotal: 1m\tremaining: 5m 2s\n",
            "5000:\tlearn: 0.7419802\ttest: 0.6518857\tbest: 0.6521094 (4982)\ttotal: 2m\tremaining: 4m 1s\n",
            "7500:\tlearn: 0.7729786\ttest: 0.6547417\tbest: 0.6549574 (7429)\ttotal: 3m 1s\tremaining: 3m\n",
            "10000:\tlearn: 0.7981859\ttest: 0.6556205\tbest: 0.6558041 (9308)\ttotal: 4m 2s\tremaining: 2m 1s\n",
            "12500:\tlearn: 0.8197772\ttest: 0.6552187\tbest: 0.6558413 (11784)\ttotal: 5m 2s\tremaining: 1m\n",
            "14999:\tlearn: 0.8383238\ttest: 0.6550406\tbest: 0.6558413 (11784)\ttotal: 6m 3s\tremaining: 0us\n",
            "bestTest = 0.655841296\n",
            "bestIteration = 11784\n",
            "Shrink model to first 11785 iterations.\n",
            "0:\tlearn: 0.6189995\ttest: 0.6129044\tbest: 0.6129044 (0)\ttotal: 45ms\tremaining: 11m 15s\n",
            "2500:\tlearn: 0.7018759\ttest: 0.6455246\tbest: 0.6455246 (2500)\ttotal: 1m\tremaining: 5m 1s\n",
            "5000:\tlearn: 0.7421689\ttest: 0.6509982\tbest: 0.6514114 (4869)\ttotal: 1m 59s\tremaining: 3m 59s\n",
            "7500:\tlearn: 0.7726235\ttest: 0.6543942\tbest: 0.6548409 (7463)\ttotal: 2m 59s\tremaining: 2m 59s\n",
            "10000:\tlearn: 0.7982344\ttest: 0.6558528\tbest: 0.6558528 (10000)\ttotal: 4m\tremaining: 2m\n",
            "12500:\tlearn: 0.8202127\ttest: 0.6577735\tbest: 0.6582752 (12185)\ttotal: 5m 1s\tremaining: 1m\n",
            "14999:\tlearn: 0.8384388\ttest: 0.6579335\tbest: 0.6588987 (14127)\ttotal: 6m 1s\tremaining: 0us\n",
            "bestTest = 0.6588987104\n",
            "bestIteration = 14127\n",
            "Shrink model to first 14128 iterations.\n",
            "0:\tlearn: 0.6319049\ttest: 0.6286655\tbest: 0.6286655 (0)\ttotal: 45.6ms\tremaining: 11m 24s\n",
            "2500:\tlearn: 0.7015053\ttest: 0.6496118\tbest: 0.6496861 (2482)\ttotal: 59.5s\tremaining: 4m 57s\n",
            "5000:\tlearn: 0.7417163\ttest: 0.6540335\tbest: 0.6542024 (4813)\ttotal: 1m 58s\tremaining: 3m 57s\n",
            "7500:\tlearn: 0.7733199\ttest: 0.6566273\tbest: 0.6570374 (7422)\ttotal: 2m 57s\tremaining: 2m 57s\n"
          ]
        }
      ]
    },
    {
      "cell_type": "code",
      "source": [
        "list =[0.697923749584908, 0.7016316652353815, 0.700380504286594, 0.7003603291740752, 0.6968361653563276, 0.6990513056445729, 0.6994172051184594, 0.6975774612299044, 0.6964333813952752, 0.6985377006493817, 0.698814946767488]\n",
        "print(np.mean(list))"
      ],
      "metadata": {
        "colab": {
          "base_uri": "https://localhost:8080/"
        },
        "outputId": "7763e6a8-70ca-4b3e-ce4e-d10126d12325",
        "id": "Wc6rbhPTFRO-"
      },
      "execution_count": null,
      "outputs": [
        {
          "output_type": "stream",
          "name": "stdout",
          "text": [
            "0.698814946767488\n"
          ]
        }
      ]
    },
    {
      "cell_type": "code",
      "source": [
        "datas = pd.read_csv(\"/content/drive/Shareddrives/JobCare/KSM_code/csv/CatBoost_data3_0.37_col.csv\")\n",
        "data_fin = pd.DataFrame(datas)\n",
        "\n",
        "data_fin.columns = datas.columns\n",
        "\n",
        "print(data_fin)\n",
        "\n",
        "pred_list = data_fin['target']\n",
        "for i in range(len(pred_list)):\n",
        "  if pred_list[i] >= 0.37:\n",
        "    pred_list[i] = 1\n",
        "  else:\n",
        "    pred_list[i] = 0\n",
        "pred_list\n",
        "\n",
        "sample_submission = pd.read_csv(f'{data_path}sample_submission.csv')\n",
        "sample_submission['target'] = pred_list\n",
        "sample_submission\n",
        "sample_submission.to_csv(f\"{submit_path}KSM_0.6988_0.37th_0119.csv\", index=False)"
      ],
      "metadata": {
        "colab": {
          "base_uri": "https://localhost:8080/"
        },
        "outputId": "d67abb98-1981-4f20-c964-7b7ce35bb7cc",
        "id": "vIvl1X533jII"
      },
      "execution_count": null,
      "outputs": [
        {
          "output_type": "stream",
          "name": "stdout",
          "text": [
            "          id    target\n",
            "0          0  0.616077\n",
            "1          1  0.420978\n",
            "2          2  0.415217\n",
            "3          3  0.419118\n",
            "4          4  0.423828\n",
            "...      ...       ...\n",
            "46399  46399  0.667779\n",
            "46400  46400  0.494345\n",
            "46401  46401  0.662043\n",
            "46402  46402  0.657597\n",
            "46403  46403  0.629995\n",
            "\n",
            "[46404 rows x 2 columns]\n"
          ]
        },
        {
          "output_type": "stream",
          "name": "stderr",
          "text": [
            "/usr/local/lib/python3.7/dist-packages/ipykernel_launcher.py:11: SettingWithCopyWarning: \n",
            "A value is trying to be set on a copy of a slice from a DataFrame\n",
            "\n",
            "See the caveats in the documentation: https://pandas.pydata.org/pandas-docs/stable/user_guide/indexing.html#returning-a-view-versus-a-copy\n",
            "  # This is added back by InteractiveShellApp.init_path()\n",
            "/usr/local/lib/python3.7/dist-packages/ipykernel_launcher.py:13: SettingWithCopyWarning: \n",
            "A value is trying to be set on a copy of a slice from a DataFrame\n",
            "\n",
            "See the caveats in the documentation: https://pandas.pydata.org/pandas-docs/stable/user_guide/indexing.html#returning-a-view-versus-a-copy\n",
            "  del sys.path[0]\n"
          ]
        }
      ]
    },
    {
      "cell_type": "code",
      "source": [
        "df_first = pd.read_csv('/content/drive/Shareddrives/JobCare/submit/KYJ_0.7168_0117_threshold_0.37.csv')\n",
        "df_second = pd.read_csv('/content/drive/Shareddrives/JobCare/submit/LSM_0.698_7fold_personrn_0118.csv')\n",
        "df_third = pd.read_csv('/content/drive/Shareddrives/JobCare/submit/KYJ_0.7128_lr0.3_T1_0120.csv')\n",
        "df_4th= pd.read_csv('/content/drive/Shareddrives/JobCare/submit/RJH_0.7143_0122.csv')\n",
        "df_1 = pd.read_csv('/content/drive/Shareddrives/JobCare/submit/KSM_0.6771_0118.csv')\n",
        "df_2 = pd.read_csv('/content/drive/Shareddrives/JobCare/submit/KSM_0.6959_0.38th_0119.csv')\n",
        "df_3 = pd.read_csv('/content/drive/Shareddrives/JobCare/submit/KSM_0.6959_0.4th_0119.csv')\n",
        "df_4 = pd.read_csv('/content/drive/Shareddrives/JobCare/submit/KSM_0.6962_0118.csv')\n",
        "df_5 = pd.read_csv('/content/drive/Shareddrives/JobCare/submit/KSM_0.6962_2_0118.csv')\n",
        "df_6 = pd.read_csv('/content/drive/Shareddrives/JobCare/submit/KSM_0.6984_0118.csv')\n",
        "df_7 = pd.read_csv('/content/drive/Shareddrives/JobCare/submit/KSM_0.6988_0.37th_0119.csv')\n",
        "df_8 = pd.read_csv('/content/drive/Shareddrives/JobCare/submit/KSM_0.69_0118.csv')\n",
        "df_9 = pd.read_csv('/content/drive/Shareddrives/JobCare/submit/KSM_0.7102_0121.csv')\n",
        "#df_10 = pd.read_csv('/content/drive/Shareddrives/JobCare/submit/KSM_0.7105_0121_0.37th.csv')\n",
        "df_10 = pd.read_csv('/content/drive/Shareddrives/JobCare/submit/KSM_0.7111_0121_0.37th.csv')\n",
        "df_11 = pd.read_csv('/content/drive/Shareddrives/JobCare/submit/KSM_0.7112_0122_0.37th.csv')\n",
        "df_12 = pd.read_csv('/content/drive/Shareddrives/JobCare/submit/KSM_0.7112_0122_0.4th.csv')\n",
        "df_13 = pd.read_csv('/content/drive/Shareddrives/JobCare/submit/KSM_0.7111_0122_0.37th.csv')\n",
        "df_14 = pd.read_csv('/content/drive/Shareddrives/JobCare/submit/KSM_0.7105_0122_0.37th.csv')\n",
        "df_15 = pd.read_csv('/content/drive/Shareddrives/JobCare/submit/KSM_0.7098_0123_0.37th.csv')\n",
        "df_16 = pd.read_csv('/content/drive/Shareddrives/JobCare/submit/KSM_0.7100_0123_0.4th.csv')\n",
        "df_17 = pd.read_csv('/content/drive/Shareddrives/JobCare/submit/KSM_0.7091_0123_0.35th.csv')\n",
        "df_18 = pd.read_csv('/content/drive/Shareddrives/JobCare/submit/KSM_0.7083_0123_0.34th.csv')\n",
        "df_19 = pd.read_csv('/content/drive/Shareddrives/JobCare/submit/KSM_0.7097_0123_0.36th.csv')\n",
        "#df_test = pd.read_csv('/content/drive/Shareddrives/JobCare/submit/test_ksm.csv')\n",
        "df_here = df_7\n",
        "\n",
        "cnt = 0\n",
        "for i in range(46404):\n",
        "  if df_first['target'][i] != df_here['target'][i]:\n",
        "    cnt+= 1\n",
        "print(f\"다른 것 개수 : {cnt}\")\n",
        "\n",
        "cnt=0\n",
        "for i in range(46404):\n",
        "  #print(df_first['target'][i])\n",
        "  if df_second['target'][i] != df_here['target'][i] :\n",
        "    cnt+=1\n",
        "print(f\"다른 것 개수 : {cnt}\")\n",
        "\n",
        "cnt=0\n",
        "for i in range(46404):\n",
        "  #print(df_first['target'][i])\n",
        "  if df_third['target'][i] != df_here['target'][i] :\n",
        "    cnt+=1\n",
        "print(f\"다른 것 개수 : {cnt}\")\n",
        "\n",
        "cnt=0\n",
        "for i in range(46404):\n",
        "  #print(df_first['target'][i])\n",
        "  if df_4th['target'][i] != df_here['target'][i] :\n",
        "    cnt+=1\n",
        "print(f\"다른 것 개수 : {cnt}\")\n",
        "\n",
        "#print(df_first)\n",
        "\n",
        "cnt_base = 0\n",
        "cnt = 0\n",
        "cnt_base2 = 0\n",
        "cnt_base3 = 0\n",
        "cnt_base4 = 0\n",
        "for i in range(46304):\n",
        "  if df_here['target'][i] == 0:\n",
        "    cnt += 1\n",
        "  if df_first['target'][i] == 0:\n",
        "    cnt_base += 1\n",
        "  if df_second['target'][i] == 0:\n",
        "    cnt_base2 += 1 \n",
        "  if df_third['target'][i] == 0:\n",
        "    cnt_base3 += 1 \n",
        "  if df_4th['target'][i] == 0:\n",
        "    cnt_base4 += 1 \n",
        "\n",
        "print(f\"df_here(내코드) 0 개수 : {cnt}\")\n",
        "print(f\"df_first : {cnt_base}\")\n",
        "print(f\"df_second : {cnt_base2}\")\n",
        "print(f\"df_third : {cnt_base3}\")\n",
        "print(f\"df_4th(현재베스트) : {cnt_base4}\")\n",
        "\n",
        "i_list = []\n",
        "me = []\n",
        "for i in range(46304):\n",
        "  if df_first['target'][i] == df_second['target'][i]:\n",
        "    if df_first['target'][i] == df_third['target'][i]:\n",
        "      #if df_first['target'][i] == df_11['target'][i]:\n",
        "      i_list.append(i)\n",
        "        #df_test[i]\n",
        "      if df_first['target'][i] == df_here['target'][i]: #df_here\n",
        "        me.append(i)\n",
        "\n",
        "print(f\"{len(me)} / {len(i_list)}\")\n",
        "\n",
        "cntss = 0\n",
        "for i in range(46304):\n",
        "  if df_11['target'][i] == df_17['target'][i]:\n",
        "    cntss += 1\n",
        "print(cntss)\n",
        "# 약 32,483개(46403*0.7)가 정답으로 채점된 셈 -> 42854개가 같음(46403개 중에) -> 틀린 오답을 내는게 10000개 정도인거\n",
        "\n",
        "\n"
      ],
      "metadata": {
        "colab": {
          "base_uri": "https://localhost:8080/"
        },
        "outputId": "fc9be2fd-b6f2-4e69-8a87-73a6dd3e1797",
        "id": "07bz8Bfd33pn"
      },
      "execution_count": 31,
      "outputs": [
        {
          "output_type": "stream",
          "name": "stdout",
          "text": [
            "다른 것 개수 : 6319\n",
            "다른 것 개수 : 5123\n",
            "다른 것 개수 : 5928\n",
            "다른 것 개수 : 5274\n",
            "df_here(내코드) 0 개수 : 10746\n",
            "df_first : 11173\n",
            "df_second : 8511\n",
            "df_third : 11891\n",
            "df_4th(현재베스트) : 10717\n",
            "37771 / 41136\n",
            "44742\n"
          ]
        }
      ]
    },
    {
      "cell_type": "code",
      "source": [
        "#모델 불러오기\n",
        "model = CatBoostClassifier() \n",
        "model.load_model(\"/content/drive/Shareddrives/JobCare/KSM_code/saveModel.cbm\")"
      ],
      "metadata": {
        "colab": {
          "base_uri": "https://localhost:8080/"
        },
        "id": "VTeexLFNEBIS",
        "outputId": "5d95b275-8faf-4259-81b4-f8f3db16f1f4"
      },
      "execution_count": null,
      "outputs": [
        {
          "output_type": "execute_result",
          "data": {
            "text/plain": [
              "<catboost.core.CatBoostClassifier at 0x7f47542c1550>"
            ]
          },
          "metadata": {},
          "execution_count": 18
        }
      ]
    },
    {
      "cell_type": "code",
      "source": [
        "threshold = 0.37\n",
        "pred_list = []\n",
        "scores = []\n",
        "for i,(tri, vai) in enumerate( cv.split(x_train) ):\n",
        "    pred = models[i].predict_proba(x_train.iloc[vai])[:, 1]\n",
        "    pred = np.where(pred >= threshold , 1, 0)\n",
        "    score = f1_score(y_train[vai],pred)\n",
        "    scores.append(score)\n",
        "    pred = models[i].predict_proba(x_test)[:, 1]\n",
        "    pred_list.append(pred)\n",
        "print(scores)\n",
        "print(np.mean(scores))\n",
        "#------------------------------#"
      ],
      "metadata": {
        "id": "l0YGdkjutjU6"
      },
      "execution_count": null,
      "outputs": []
    },
    {
      "cell_type": "markdown",
      "source": [
        "data target 0, 1로 변경"
      ],
      "metadata": {
        "id": "f53YyjHFFRO_"
      }
    },
    {
      "cell_type": "code",
      "source": [
        "datas = pd.read_csv(\"/content/drive/Shareddrives/JobCare/submit/CatBoost_data3_0.45.csv\")\n",
        "data_fin = pd.DataFrame(datas)\n",
        "\n",
        "data_fin.columns = datas.columns\n",
        "\n",
        "print(data_fin)\n",
        "\n",
        "pred_list = data_fin['target']\n",
        "for i in range(len(pred_list)):\n",
        "  if pred_list[i] >= 0.45:\n",
        "    pred_list[i] = 1\n",
        "  else:\n",
        "    pred_list[i] = 0\n",
        "pred_list\n",
        "\n",
        "sample_submission = pd.read_csv(f'{data_path}sample_submission.csv')\n",
        "sample_submission['target'] = pred_list\n",
        "sample_submission\n",
        "sample_submission.to_csv(f\"{submit_path}KSM_0.9197_0117.csv\", index=False)"
      ],
      "metadata": {
        "colab": {
          "base_uri": "https://localhost:8080/"
        },
        "outputId": "a602e406-1e33-4ad5-f712-29903a2d3d2d",
        "id": "Cl6FLEFIFRO_"
      },
      "execution_count": null,
      "outputs": [
        {
          "output_type": "stream",
          "name": "stdout",
          "text": [
            "          id    target\n",
            "0          0  0.660364\n",
            "1          1  0.392968\n",
            "2          2  0.406774\n",
            "3          3  0.489910\n",
            "4          4  0.266767\n",
            "...      ...       ...\n",
            "46399  46399  0.731047\n",
            "46400  46400  0.536863\n",
            "46401  46401  0.655224\n",
            "46402  46402  0.696649\n",
            "46403  46403  0.544246\n",
            "\n",
            "[46404 rows x 2 columns]\n"
          ]
        },
        {
          "output_type": "stream",
          "name": "stderr",
          "text": [
            "/usr/local/lib/python3.7/dist-packages/ipykernel_launcher.py:11: SettingWithCopyWarning: \n",
            "A value is trying to be set on a copy of a slice from a DataFrame\n",
            "\n",
            "See the caveats in the documentation: https://pandas.pydata.org/pandas-docs/stable/user_guide/indexing.html#returning-a-view-versus-a-copy\n",
            "  # This is added back by InteractiveShellApp.init_path()\n",
            "/usr/local/lib/python3.7/dist-packages/ipykernel_launcher.py:13: SettingWithCopyWarning: \n",
            "A value is trying to be set on a copy of a slice from a DataFrame\n",
            "\n",
            "See the caveats in the documentation: https://pandas.pydata.org/pandas-docs/stable/user_guide/indexing.html#returning-a-view-versus-a-copy\n",
            "  del sys.path[0]\n"
          ]
        }
      ]
    },
    {
      "cell_type": "markdown",
      "source": [
        "기존 제출csv 와 차이보기"
      ],
      "metadata": {
        "id": "QQDy0nXcFRPA"
      }
    },
    {
      "cell_type": "code",
      "source": [
        "df_first = pd.read_csv('/content/drive/Shareddrives/JobCare/submit/prediction.csv')\n",
        "df_second = pd.read_csv('/content/drive/Shareddrives/JobCare/submit/prediction_10fold_mean.csv')\n",
        "df_third = pd.read_csv('/content/drive/Shareddrives/JobCare/submit/prediction_CatBoost_Depthwise_10.csv')\n",
        "df_here = pd.read_csv('/content/drive/Shareddrives/JobCare/submit/KSM_0.9197_0117.csv')\n",
        "\n",
        "cnt = 0\n",
        "for i in range(46404):\n",
        "  if df_first['target'][i] != df_here['target'][i]:\n",
        "    cnt+= 1\n",
        "print(cnt)\n",
        "\n",
        "cnt=0\n",
        "for i in range(46404):\n",
        "  #print(df_first['target'][i])\n",
        "  if df_second['target'][i] != df_here['target'][i] :\n",
        "    cnt+=1\n",
        "print(cnt)\n",
        "\n",
        "cnt=0\n",
        "for i in range(46404):\n",
        "  #print(df_first['target'][i])\n",
        "  if df_third['target'][i] != df_here['target'][i] :\n",
        "    cnt+=1\n",
        "print(cnt)\n"
      ],
      "metadata": {
        "colab": {
          "base_uri": "https://localhost:8080/"
        },
        "outputId": "c9d7b057-bc6a-47f3-af36-d4138a9b605e",
        "id": "p4nnTi5SFRPB"
      },
      "execution_count": null,
      "outputs": [
        {
          "output_type": "stream",
          "name": "stdout",
          "text": [
            "12286\n",
            "13686\n",
            "7574\n"
          ]
        }
      ]
    },
    {
      "cell_type": "markdown",
      "source": [
        "### data2 - 실행완료 (0, 1 변환은 아직)"
      ],
      "metadata": {
        "id": "EULqb_2_KHZZ"
      }
    },
    {
      "cell_type": "code",
      "source": [
        "data2 = catboost_modeling(x_train, y_train, x_test, 'Lossguide', 8, 0.01063, 5.127, 2014, 2)"
      ],
      "metadata": {
        "id": "HBLdn9xMxv-5",
        "colab": {
          "base_uri": "https://localhost:8080/"
        },
        "outputId": "a9e25276-d8af-4d94-e7aa-349a3d9ae9f3"
      },
      "execution_count": null,
      "outputs": [
        {
          "output_type": "stream",
          "name": "stdout",
          "text": [
            "0:\tlearn: 0.6241581\ttest: 0.6241418\tbest: 0.6241418 (0)\ttotal: 60ms\tremaining: 9m 59s\n",
            "9999:\tlearn: 0.7357500\ttest: 0.6836888\tbest: 0.6836892 (9998)\ttotal: 7m 18s\tremaining: 0us\n",
            "bestTest = 0.6836892068\n",
            "bestIteration = 9998\n",
            "Shrink model to first 9999 iterations.\n",
            "0:\tlearn: 0.6239691\ttest: 0.6215405\tbest: 0.6215405 (0)\ttotal: 59.4ms\tremaining: 9m 54s\n",
            "9999:\tlearn: 0.7354279\ttest: 0.6862082\tbest: 0.6862082 (9999)\ttotal: 7m 14s\tremaining: 0us\n",
            "bestTest = 0.6862081885\n",
            "bestIteration = 9999\n",
            "0:\tlearn: 0.6238327\ttest: 0.6229415\tbest: 0.6229415 (0)\ttotal: 59.6ms\tremaining: 9m 55s\n",
            "9999:\tlearn: 0.7355893\ttest: 0.6833862\tbest: 0.6833862 (9999)\ttotal: 7m 20s\tremaining: 0us\n",
            "bestTest = 0.6833862066\n",
            "bestIteration = 9999\n",
            "0:\tlearn: 0.6244823\ttest: 0.6238569\tbest: 0.6238569 (0)\ttotal: 62.3ms\tremaining: 10m 22s\n",
            "9999:\tlearn: 0.7353817\ttest: 0.6844848\tbest: 0.6844848 (9999)\ttotal: 7m 16s\tremaining: 0us\n",
            "bestTest = 0.6844848394\n",
            "bestIteration = 9999\n",
            "0:\tlearn: 0.6248096\ttest: 0.6232798\tbest: 0.6232798 (0)\ttotal: 69.6ms\tremaining: 11m 35s\n",
            "9999:\tlearn: 0.7352871\ttest: 0.6885625\tbest: 0.6885630 (9998)\ttotal: 7m 19s\tremaining: 0us\n",
            "bestTest = 0.6885629892\n",
            "bestIteration = 9998\n",
            "Shrink model to first 9999 iterations.\n",
            "0:\tlearn: 0.6242699\ttest: 0.6257367\tbest: 0.6257367 (0)\ttotal: 61.3ms\tremaining: 10m 12s\n",
            "9999:\tlearn: 0.7349989\ttest: 0.6878983\tbest: 0.6878988 (9994)\ttotal: 7m 17s\tremaining: 0us\n",
            "bestTest = 0.6878988147\n",
            "bestIteration = 9994\n",
            "Shrink model to first 9995 iterations.\n",
            "0:\tlearn: 0.6253020\ttest: 0.6260850\tbest: 0.6260850 (0)\ttotal: 75.9ms\tremaining: 12m 39s\n",
            "9999:\tlearn: 0.7351307\ttest: 0.6865876\tbest: 0.6865876 (9999)\ttotal: 7m 15s\tremaining: 0us\n",
            "bestTest = 0.6865875721\n",
            "bestIteration = 9999\n",
            "0:\tlearn: 0.6242187\ttest: 0.6233320\tbest: 0.6233320 (0)\ttotal: 59.8ms\tremaining: 9m 58s\n",
            "9999:\tlearn: 0.7355561\ttest: 0.6852179\tbest: 0.6852179 (9999)\ttotal: 7m 13s\tremaining: 0us\n",
            "bestTest = 0.6852178872\n",
            "bestIteration = 9999\n",
            "0:\tlearn: 0.6230192\ttest: 0.6226184\tbest: 0.6226184 (0)\ttotal: 63.9ms\tremaining: 10m 38s\n",
            "9999:\tlearn: 0.7354615\ttest: 0.6851820\tbest: 0.6851820 (9999)\ttotal: 7m 12s\tremaining: 0us\n",
            "bestTest = 0.685182035\n",
            "bestIteration = 9999\n",
            "0:\tlearn: 0.6246042\ttest: 0.6215356\tbest: 0.6215356 (0)\ttotal: 60.6ms\tremaining: 10m 5s\n",
            "9999:\tlearn: 0.7355675\ttest: 0.6823761\tbest: 0.6823761 (9999)\ttotal: 7m 15s\tremaining: 0us\n",
            "bestTest = 0.6823761463\n",
            "bestIteration = 9999\n",
            "0:\tlearn: 0.6247753\ttest: 0.6250161\tbest: 0.6250161 (0)\ttotal: 52ms\tremaining: 8m 39s\n",
            "9999:\tlearn: 0.7353777\ttest: 0.6864968\tbest: 0.6864968 (9999)\ttotal: 7m 10s\tremaining: 0us\n",
            "bestTest = 0.686496824\n",
            "bestIteration = 9999\n",
            "0:\tlearn: 0.6245747\ttest: 0.6252349\tbest: 0.6252349 (0)\ttotal: 60.3ms\tremaining: 10m 2s\n",
            "9999:\tlearn: 0.7352443\ttest: 0.6864594\tbest: 0.6864599 (9998)\ttotal: 7m 16s\tremaining: 0us\n",
            "bestTest = 0.6864598989\n",
            "bestIteration = 9998\n",
            "Shrink model to first 9999 iterations.\n",
            "0:\tlearn: 0.6238175\ttest: 0.6238823\tbest: 0.6238823 (0)\ttotal: 66ms\tremaining: 10m 59s\n",
            "9999:\tlearn: 0.7357549\ttest: 0.6831563\tbest: 0.6831563 (9999)\ttotal: 7m 15s\tremaining: 0us\n",
            "bestTest = 0.6831562519\n",
            "bestIteration = 9999\n",
            "0:\tlearn: 0.6229309\ttest: 0.6270460\tbest: 0.6270460 (0)\ttotal: 61.5ms\tremaining: 10m 14s\n",
            "9999:\tlearn: 0.7349069\ttest: 0.6900410\tbest: 0.6900410 (9999)\ttotal: 7m 17s\tremaining: 0us\n",
            "bestTest = 0.6900410354\n",
            "bestIteration = 9999\n",
            "0:\tlearn: 0.6245955\ttest: 0.6201228\tbest: 0.6201228 (0)\ttotal: 61.4ms\tremaining: 10m 13s\n",
            "9999:\tlearn: 0.7353915\ttest: 0.6825657\tbest: 0.6825657 (9999)\ttotal: 7m 15s\tremaining: 0us\n",
            "bestTest = 0.6825656593\n",
            "bestIteration = 9999\n",
            "0:\tlearn: 0.6242609\ttest: 0.6225333\tbest: 0.6225333 (0)\ttotal: 61.8ms\tremaining: 10m 18s\n",
            "9999:\tlearn: 0.7353814\ttest: 0.6848840\tbest: 0.6848840 (9999)\ttotal: 7m 15s\tremaining: 0us\n",
            "bestTest = 0.6848840117\n",
            "bestIteration = 9999\n",
            "0:\tlearn: 0.6246412\ttest: 0.6219894\tbest: 0.6219894 (0)\ttotal: 60.8ms\tremaining: 10m 8s\n",
            "9999:\tlearn: 0.7355618\ttest: 0.6849779\tbest: 0.6849779 (9999)\ttotal: 7m 14s\tremaining: 0us\n",
            "bestTest = 0.6849778593\n",
            "bestIteration = 9999\n",
            "0:\tlearn: 0.6247161\ttest: 0.6216612\tbest: 0.6216612 (0)\ttotal: 60.4ms\tremaining: 10m 4s\n",
            "9999:\tlearn: 0.7355045\ttest: 0.6830097\tbest: 0.6830097 (9999)\ttotal: 7m 17s\tremaining: 0us\n",
            "bestTest = 0.6830096841\n",
            "bestIteration = 9999\n",
            "0:\tlearn: 0.6249333\ttest: 0.6289561\tbest: 0.6289561 (0)\ttotal: 68.7ms\tremaining: 11m 26s\n",
            "9999:\tlearn: 0.7349647\ttest: 0.6918803\tbest: 0.6918803 (9999)\ttotal: 7m 14s\tremaining: 0us\n",
            "bestTest = 0.6918803453\n",
            "bestIteration = 9999\n",
            "0:\tlearn: 0.6249892\ttest: 0.6184928\tbest: 0.6184928 (0)\ttotal: 76.9ms\tremaining: 12m 49s\n",
            "9999:\tlearn: 0.7357453\ttest: 0.6799618\tbest: 0.6799625 (9997)\ttotal: 7m 14s\tremaining: 0us\n",
            "bestTest = 0.6799625158\n",
            "bestIteration = 9997\n",
            "Shrink model to first 9998 iterations.\n"
          ]
        }
      ]
    },
    {
      "cell_type": "markdown",
      "source": [
        "### data3 - 실행 되다가 멈춤 (성능은 나쁘지않아보이니 gpu 충분할때 돌려보기 - 시간 오래걸림)"
      ],
      "metadata": {
        "id": "N0rfvc6dKTs_"
      }
    },
    {
      "cell_type": "code",
      "source": [
        "data3 = catboost_modeling(x_train, y_train, x_test, 'Depthwise', 12, 0.01564, 49.99, 2022, 2)"
      ],
      "metadata": {
        "id": "NapR7_NztSMI",
        "colab": {
          "base_uri": "https://localhost:8080/"
        },
        "outputId": "e9e36dbf-8f97-4a10-8106-54fc16ae5282"
      },
      "execution_count": null,
      "outputs": [
        {
          "output_type": "stream",
          "name": "stdout",
          "text": [
            "0:\tlearn: 0.6673145\ttest: 0.6312453\tbest: 0.6312453 (0)\ttotal: 289ms\tremaining: 48m 11s\n",
            "bestTest = 0.7027503252\n",
            "bestIteration = 4698\n",
            "Shrink model to first 4699 iterations.\n",
            "0:\tlearn: 0.6676147\ttest: 0.6312870\tbest: 0.6312870 (0)\ttotal: 290ms\tremaining: 48m 17s\n",
            "bestTest = 0.7024948001\n",
            "bestIteration = 4141\n",
            "Shrink model to first 4142 iterations.\n",
            "0:\tlearn: 0.6687610\ttest: 0.6303307\tbest: 0.6303307 (0)\ttotal: 284ms\tremaining: 47m 22s\n",
            "bestTest = 0.7022935748\n",
            "bestIteration = 4595\n",
            "Shrink model to first 4596 iterations.\n",
            "0:\tlearn: 0.6690721\ttest: 0.6340078\tbest: 0.6340078 (0)\ttotal: 274ms\tremaining: 45m 38s\n",
            "bestTest = 0.7033597231\n",
            "bestIteration = 4184\n",
            "Shrink model to first 4185 iterations.\n",
            "0:\tlearn: 0.6675879\ttest: 0.6315383\tbest: 0.6315383 (0)\ttotal: 284ms\tremaining: 47m 17s\n",
            "bestTest = 0.6987618208\n",
            "bestIteration = 4137\n",
            "Shrink model to first 4138 iterations.\n",
            "0:\tlearn: 0.6685966\ttest: 0.6309236\tbest: 0.6309236 (0)\ttotal: 303ms\tremaining: 50m 29s\n",
            "bestTest = 0.7001109123\n",
            "bestIteration = 3743\n",
            "Shrink model to first 3744 iterations.\n",
            "0:\tlearn: 0.6683619\ttest: 0.6287266\tbest: 0.6287266 (0)\ttotal: 232ms\tremaining: 38m 35s\n",
            "bestTest = 0.699760288\n",
            "bestIteration = 5379\n",
            "Shrink model to first 5380 iterations.\n",
            "0:\tlearn: 0.6675742\ttest: 0.6347071\tbest: 0.6347071 (0)\ttotal: 293ms\tremaining: 48m 46s\n",
            "bestTest = 0.7043369412\n",
            "bestIteration = 3669\n",
            "Shrink model to first 3670 iterations.\n",
            "0:\tlearn: 0.6668749\ttest: 0.6380784\tbest: 0.6380784 (0)\ttotal: 228ms\tremaining: 38m 1s\n",
            "bestTest = 0.704613924\n",
            "bestIteration = 4017\n",
            "Shrink model to first 4018 iterations.\n",
            "0:\tlearn: 0.6650781\ttest: 0.6366806\tbest: 0.6366806 (0)\ttotal: 273ms\tremaining: 45m 26s\n",
            "bestTest = 0.7103914022\n",
            "bestIteration = 4553\n",
            "Shrink model to first 4554 iterations.\n",
            "0:\tlearn: 0.6671303\ttest: 0.6353302\tbest: 0.6353302 (0)\ttotal: 284ms\tremaining: 47m 20s\n"
          ]
        }
      ]
    },
    {
      "cell_type": "markdown",
      "source": [
        "### data4"
      ],
      "metadata": {
        "id": "eIU3aDURKW0X"
      }
    },
    {
      "cell_type": "code",
      "source": [
        "data4 = catboost_modeling(x_train, y_train, x_test, 'Depthwise', 12, 0.010787, 31.6339, 2014, 2)"
      ],
      "metadata": {
        "colab": {
          "base_uri": "https://localhost:8080/"
        },
        "id": "NPyFuUOVJSBi",
        "outputId": "e9c5a8c1-978c-4e1b-e33d-936be69f5c46"
      },
      "execution_count": null,
      "outputs": [
        {
          "output_type": "stream",
          "name": "stdout",
          "text": [
            "0:\tlearn: 0.6693591\ttest: 0.6297926\tbest: 0.6297926 (0)\ttotal: 255ms\tremaining: 21m 12s\n",
            "2500:\tlearn: 0.9624552\ttest: 0.6994210\tbest: 0.6994312 (2494)\ttotal: 5m 7s\tremaining: 5m 7s\n",
            "4999:\tlearn: 0.9950163\ttest: 0.7025207\tbest: 0.7025454 (4986)\ttotal: 10m 44s\tremaining: 0us\n",
            "bestTest = 0.7025454044\n",
            "bestIteration = 4986\n",
            "Shrink model to first 4987 iterations.\n",
            "0:\tlearn: 0.6691030\ttest: 0.6281264\tbest: 0.6281264 (0)\ttotal: 264ms\tremaining: 21m 58s\n",
            "2500:\tlearn: 0.9628624\ttest: 0.7016567\tbest: 0.7016567 (2500)\ttotal: 5m 7s\tremaining: 5m 7s\n",
            "4999:\tlearn: 0.9950160\ttest: 0.7050899\tbest: 0.7051044 (4990)\ttotal: 10m 42s\tremaining: 0us\n",
            "bestTest = 0.7051044106\n",
            "bestIteration = 4990\n",
            "Shrink model to first 4991 iterations.\n",
            "0:\tlearn: 0.6676937\ttest: 0.6269598\tbest: 0.6269598 (0)\ttotal: 254ms\tremaining: 21m 8s\n",
            "2500:\tlearn: 0.9626995\ttest: 0.6984899\tbest: 0.6984899 (2500)\ttotal: 5m 7s\tremaining: 5m 7s\n",
            "4999:\tlearn: 0.9950936\ttest: 0.7015895\tbest: 0.7016427 (4946)\ttotal: 10m 46s\tremaining: 0us\n",
            "bestTest = 0.7016426921\n",
            "bestIteration = 4946\n",
            "Shrink model to first 4947 iterations.\n",
            "0:\tlearn: 0.6680464\ttest: 0.6294744\tbest: 0.6294744 (0)\ttotal: 263ms\tremaining: 21m 54s\n",
            "2500:\tlearn: 0.9626806\ttest: 0.6990489\tbest: 0.6990519 (2499)\ttotal: 5m 8s\tremaining: 5m 8s\n",
            "4999:\tlearn: 0.9949824\ttest: 0.7019930\tbest: 0.7020203 (4915)\ttotal: 10m 45s\tremaining: 0us\n",
            "bestTest = 0.7020202875\n",
            "bestIteration = 4915\n",
            "Shrink model to first 4916 iterations.\n",
            "0:\tlearn: 0.6676485\ttest: 0.6348480\tbest: 0.6348480 (0)\ttotal: 239ms\tremaining: 19m 56s\n"
          ]
        }
      ]
    },
    {
      "cell_type": "markdown",
      "source": [
        "### data5"
      ],
      "metadata": {
        "id": "2Fh3wgmJKYii"
      }
    },
    {
      "cell_type": "code",
      "source": [
        "data5 = catboost_modeling(x_train, y_train, x_test, 'Lossguide', 16, 0.01213, 5.027, 2022, 2)"
      ],
      "metadata": {
        "id": "Az4KJxTl61Ph"
      },
      "execution_count": null,
      "outputs": []
    },
    {
      "cell_type": "markdown",
      "source": [
        "### 만약 data들 짬뽕해서 쓸거면 이 코드 사용"
      ],
      "metadata": {
        "id": "ty1x7bXOKbgU"
      }
    },
    {
      "cell_type": "code",
      "source": [
        "# 최종 모델 앙상블\n",
        "sample_submission = pd.read_csv(f'{data_path}sample_submission.csv')\n",
        "data_final = pd.DataFrame((data1+data2)/2 *1/3 + (data3+data4)/2 *2/3) #가중치 넣어 짬뽕\n",
        "data_final.columns = sample_submission.columns\n",
        "data_final.to_csv('data_final.csv', index =True)\n",
        "data_final"
      ],
      "metadata": {
        "id": "9ckTv7cI-Xfi"
      },
      "execution_count": null,
      "outputs": []
    },
    {
      "cell_type": "markdown",
      "source": [
        "## 기타"
      ],
      "metadata": {
        "id": "HFDBmvjeKkB_"
      }
    },
    {
      "cell_type": "code",
      "source": [
        "y_pred=clf.predict(x_test)"
      ],
      "metadata": {
        "id": "uYWqHJ5XTvjx"
      },
      "execution_count": null,
      "outputs": []
    },
    {
      "cell_type": "code",
      "source": [
        "#Import scikit-learn metrics module for accuracy calculation\n",
        "from sklearn import metrics\n",
        "# Model Accuracy, how often is the classifier correct?\n",
        "print(\"Accuracy:\",metrics.accuracy_score(y_test, y_pred))"
      ],
      "metadata": {
        "colab": {
          "base_uri": "https://localhost:8080/",
          "height": 360
        },
        "id": "gxvqiFrHT2v3",
        "outputId": "0ec6c417-53cc-4934-feed-e720009d8f85"
      },
      "execution_count": null,
      "outputs": [
        {
          "output_type": "error",
          "ename": "ValueError",
          "evalue": "ignored",
          "traceback": [
            "\u001b[0;31m---------------------------------------------------------------------------\u001b[0m",
            "\u001b[0;31mValueError\u001b[0m                                Traceback (most recent call last)",
            "\u001b[0;32m<ipython-input-79-b9d443f58819>\u001b[0m in \u001b[0;36m<module>\u001b[0;34m()\u001b[0m\n\u001b[1;32m      2\u001b[0m \u001b[0;32mfrom\u001b[0m \u001b[0msklearn\u001b[0m \u001b[0;32mimport\u001b[0m \u001b[0mmetrics\u001b[0m\u001b[0;34m\u001b[0m\u001b[0;34m\u001b[0m\u001b[0m\n\u001b[1;32m      3\u001b[0m \u001b[0;31m# Model Accuracy, how often is the classifier correct?\u001b[0m\u001b[0;34m\u001b[0m\u001b[0;34m\u001b[0m\u001b[0;34m\u001b[0m\u001b[0m\n\u001b[0;32m----> 4\u001b[0;31m \u001b[0mprint\u001b[0m\u001b[0;34m(\u001b[0m\u001b[0;34m\"Accuracy:\"\u001b[0m\u001b[0;34m,\u001b[0m\u001b[0mmetrics\u001b[0m\u001b[0;34m.\u001b[0m\u001b[0maccuracy_score\u001b[0m\u001b[0;34m(\u001b[0m\u001b[0my_test\u001b[0m\u001b[0;34m,\u001b[0m \u001b[0my_pred\u001b[0m\u001b[0;34m)\u001b[0m\u001b[0;34m)\u001b[0m\u001b[0;34m\u001b[0m\u001b[0;34m\u001b[0m\u001b[0m\n\u001b[0m",
            "\u001b[0;32m/usr/local/lib/python3.7/dist-packages/sklearn/metrics/_classification.py\u001b[0m in \u001b[0;36maccuracy_score\u001b[0;34m(y_true, y_pred, normalize, sample_weight)\u001b[0m\n\u001b[1;32m    209\u001b[0m \u001b[0;34m\u001b[0m\u001b[0m\n\u001b[1;32m    210\u001b[0m     \u001b[0;31m# Compute accuracy for each possible representation\u001b[0m\u001b[0;34m\u001b[0m\u001b[0;34m\u001b[0m\u001b[0;34m\u001b[0m\u001b[0m\n\u001b[0;32m--> 211\u001b[0;31m     \u001b[0my_type\u001b[0m\u001b[0;34m,\u001b[0m \u001b[0my_true\u001b[0m\u001b[0;34m,\u001b[0m \u001b[0my_pred\u001b[0m \u001b[0;34m=\u001b[0m \u001b[0m_check_targets\u001b[0m\u001b[0;34m(\u001b[0m\u001b[0my_true\u001b[0m\u001b[0;34m,\u001b[0m \u001b[0my_pred\u001b[0m\u001b[0;34m)\u001b[0m\u001b[0;34m\u001b[0m\u001b[0;34m\u001b[0m\u001b[0m\n\u001b[0m\u001b[1;32m    212\u001b[0m     \u001b[0mcheck_consistent_length\u001b[0m\u001b[0;34m(\u001b[0m\u001b[0my_true\u001b[0m\u001b[0;34m,\u001b[0m \u001b[0my_pred\u001b[0m\u001b[0;34m,\u001b[0m \u001b[0msample_weight\u001b[0m\u001b[0;34m)\u001b[0m\u001b[0;34m\u001b[0m\u001b[0;34m\u001b[0m\u001b[0m\n\u001b[1;32m    213\u001b[0m     \u001b[0;32mif\u001b[0m \u001b[0my_type\u001b[0m\u001b[0;34m.\u001b[0m\u001b[0mstartswith\u001b[0m\u001b[0;34m(\u001b[0m\u001b[0;34m\"multilabel\"\u001b[0m\u001b[0;34m)\u001b[0m\u001b[0;34m:\u001b[0m\u001b[0;34m\u001b[0m\u001b[0;34m\u001b[0m\u001b[0m\n",
            "\u001b[0;32m/usr/local/lib/python3.7/dist-packages/sklearn/metrics/_classification.py\u001b[0m in \u001b[0;36m_check_targets\u001b[0;34m(y_true, y_pred)\u001b[0m\n\u001b[1;32m     82\u001b[0m     \u001b[0my_pred\u001b[0m \u001b[0;34m:\u001b[0m \u001b[0marray\u001b[0m \u001b[0;32mor\u001b[0m \u001b[0mindicator\u001b[0m \u001b[0mmatrix\u001b[0m\u001b[0;34m\u001b[0m\u001b[0;34m\u001b[0m\u001b[0m\n\u001b[1;32m     83\u001b[0m     \"\"\"\n\u001b[0;32m---> 84\u001b[0;31m     \u001b[0mcheck_consistent_length\u001b[0m\u001b[0;34m(\u001b[0m\u001b[0my_true\u001b[0m\u001b[0;34m,\u001b[0m \u001b[0my_pred\u001b[0m\u001b[0;34m)\u001b[0m\u001b[0;34m\u001b[0m\u001b[0;34m\u001b[0m\u001b[0m\n\u001b[0m\u001b[1;32m     85\u001b[0m     \u001b[0mtype_true\u001b[0m \u001b[0;34m=\u001b[0m \u001b[0mtype_of_target\u001b[0m\u001b[0;34m(\u001b[0m\u001b[0my_true\u001b[0m\u001b[0;34m)\u001b[0m\u001b[0;34m\u001b[0m\u001b[0;34m\u001b[0m\u001b[0m\n\u001b[1;32m     86\u001b[0m     \u001b[0mtype_pred\u001b[0m \u001b[0;34m=\u001b[0m \u001b[0mtype_of_target\u001b[0m\u001b[0;34m(\u001b[0m\u001b[0my_pred\u001b[0m\u001b[0;34m)\u001b[0m\u001b[0;34m\u001b[0m\u001b[0;34m\u001b[0m\u001b[0m\n",
            "\u001b[0;32m/usr/local/lib/python3.7/dist-packages/sklearn/utils/validation.py\u001b[0m in \u001b[0;36mcheck_consistent_length\u001b[0;34m(*arrays)\u001b[0m\n\u001b[1;32m    332\u001b[0m         raise ValueError(\n\u001b[1;32m    333\u001b[0m             \u001b[0;34m\"Found input variables with inconsistent numbers of samples: %r\"\u001b[0m\u001b[0;34m\u001b[0m\u001b[0;34m\u001b[0m\u001b[0m\n\u001b[0;32m--> 334\u001b[0;31m             \u001b[0;34m%\u001b[0m \u001b[0;34m[\u001b[0m\u001b[0mint\u001b[0m\u001b[0;34m(\u001b[0m\u001b[0ml\u001b[0m\u001b[0;34m)\u001b[0m \u001b[0;32mfor\u001b[0m \u001b[0ml\u001b[0m \u001b[0;32min\u001b[0m \u001b[0mlengths\u001b[0m\u001b[0;34m]\u001b[0m\u001b[0;34m\u001b[0m\u001b[0;34m\u001b[0m\u001b[0m\n\u001b[0m\u001b[1;32m    335\u001b[0m         )\n\u001b[1;32m    336\u001b[0m \u001b[0;34m\u001b[0m\u001b[0m\n",
            "\u001b[0;31mValueError\u001b[0m: Found input variables with inconsistent numbers of samples: [150586, 46404]"
          ]
        }
      ]
    },
    {
      "cell_type": "markdown",
      "source": [
        "## sklearn 홈페이지 참조"
      ],
      "metadata": {
        "id": "AN5Duv4rOCzQ"
      }
    },
    {
      "cell_type": "code",
      "execution_count": null,
      "metadata": {
        "id": "BhGihk-z_y6c"
      },
      "outputs": [],
      "source": [
        "import pandas as pd \n",
        "\n",
        "jobs = pd.read_csv('/content/drive/Shareddrives/JobCare/Jobcare_data/train.csv', sep=',')"
      ]
    },
    {
      "cell_type": "code",
      "source": [
        "print(jobs.columns)\n",
        "print(jobs.id[0:5])"
      ],
      "metadata": {
        "colab": {
          "base_uri": "https://localhost:8080/"
        },
        "id": "Af4fo8iLBPCG",
        "outputId": "8d9cd1a8-8477-4e38-cacc-c22b958a230e"
      },
      "execution_count": null,
      "outputs": [
        {
          "output_type": "stream",
          "name": "stdout",
          "text": [
            "Index(['id', 'd_l_match_yn', 'd_m_match_yn', 'd_s_match_yn', 'h_l_match_yn',\n",
            "       'h_m_match_yn', 'h_s_match_yn', 'person_attribute_a',\n",
            "       'person_attribute_a_1', 'person_attribute_b', 'person_prefer_c',\n",
            "       'person_prefer_d_1', 'person_prefer_d_2', 'person_prefer_d_3',\n",
            "       'person_prefer_e', 'person_prefer_f', 'person_prefer_g',\n",
            "       'person_prefer_h_1', 'person_prefer_h_2', 'person_prefer_h_3',\n",
            "       'contents_attribute_i', 'contents_attribute_a',\n",
            "       'contents_attribute_j_1', 'contents_attribute_j',\n",
            "       'contents_attribute_c', 'contents_attribute_k', 'contents_attribute_l',\n",
            "       'contents_attribute_d', 'contents_attribute_m', 'contents_attribute_e',\n",
            "       'contents_attribute_h', 'person_rn', 'contents_rn', 'contents_open_dt',\n",
            "       'target'],\n",
            "      dtype='object')\n",
            "0    0\n",
            "1    1\n",
            "2    2\n",
            "3    3\n",
            "4    4\n",
            "Name: id, dtype: int64\n"
          ]
        }
      ]
    },
    {
      "cell_type": "code",
      "source": [
        "from sklearn.model_selection import train_test_split\n",
        "\n",
        "X=jobs[['d_l_match_yn', 'd_m_match_yn', 'd_s_match_yn', 'h_l_match_yn',\n",
        "       'h_m_match_yn', 'h_s_match_yn', 'person_attribute_a',\n",
        "       'person_attribute_a_1', 'person_attribute_b', 'person_prefer_c',\n",
        "       'person_prefer_d_1', 'person_prefer_d_2', 'person_prefer_d_3',\n",
        "       'person_prefer_e', 'person_prefer_f', 'person_prefer_g',\n",
        "       'person_prefer_h_1', 'person_prefer_h_2', 'person_prefer_h_3',\n",
        "       'contents_attribute_i', 'contents_attribute_a',\n",
        "       'contents_attribute_j_1', 'contents_attribute_j',\n",
        "       'contents_attribute_c', 'contents_attribute_k', 'contents_attribute_l',\n",
        "       'contents_attribute_d', 'contents_attribute_m', 'contents_attribute_e',\n",
        "       'contents_attribute_h', 'person_rn', 'contents_rn']]  # Features ('id','contents_open_dt' 제외)\n",
        "y=jobs['target']  # Labels\n",
        "\n",
        "# Split dataset into training set and test set\n",
        "X_train, X_test, y_train, y_test = train_test_split(X, y, test_size=0.3) # 70% training and 30% test"
      ],
      "metadata": {
        "id": "dgHUMhk3B3Pj"
      },
      "execution_count": null,
      "outputs": []
    },
    {
      "cell_type": "code",
      "source": [
        "#Import Random Forest Model\n",
        "from sklearn.ensemble import RandomForestClassifier\n",
        "\n",
        "#Create a Gaussian Classifier\n",
        "clf=RandomForestClassifier(n_estimators=100)\n",
        "\n",
        "#Train the model using the training sets y_pred=clf.predict(X_test)\n",
        "clf.fit(X_train,y_train)\n",
        "\n",
        "y_pred=clf.predict(X_test)"
      ],
      "metadata": {
        "id": "kj81AKT3Dbl2"
      },
      "execution_count": null,
      "outputs": []
    },
    {
      "cell_type": "code",
      "source": [
        "#Import scikit-learn metrics module for accuracy calculation\n",
        "from sklearn import metrics\n",
        "# Model Accuracy, how often is the classifier correct?\n",
        "print(\"Accuracy:\",metrics.accuracy_score(y_test, y_pred))"
      ],
      "metadata": {
        "colab": {
          "base_uri": "https://localhost:8080/"
        },
        "id": "5UkGb5pCDgqU",
        "outputId": "32ce0e15-df1b-427d-a35c-285c5110b39d"
      },
      "execution_count": null,
      "outputs": [
        {
          "output_type": "stream",
          "name": "stdout",
          "text": [
            "Accuracy: 0.6173548669863068\n"
          ]
        }
      ]
    },
    {
      "cell_type": "code",
      "source": [
        "import pandas as pd\n",
        "jobs.newcol = []\n",
        "for i in range(len(jobs.columns)):\n",
        "  if i != 0 and i <= 32:\n",
        "    jobs.newcol.append(jobs.columns[i])\n",
        "feature_imp = pd.Series(clf.feature_importances_,index=jobs.newcol).sort_values(ascending=False)\n",
        "feature_imp"
      ],
      "metadata": {
        "colab": {
          "base_uri": "https://localhost:8080/"
        },
        "id": "31ZVd78mGF1D",
        "outputId": "95dc73c0-cc8a-4b96-f022-0cb0e4199680"
      },
      "execution_count": null,
      "outputs": [
        {
          "output_type": "stream",
          "name": "stderr",
          "text": [
            "/usr/local/lib/python3.7/dist-packages/ipykernel_launcher.py:2: UserWarning: Pandas doesn't allow columns to be created via a new attribute name - see https://pandas.pydata.org/pandas-docs/stable/indexing.html#attribute-access\n",
            "  \n"
          ]
        },
        {
          "output_type": "execute_result",
          "data": {
            "text/plain": [
              "contents_rn               0.083424\n",
              "person_rn                 0.081912\n",
              "contents_attribute_l      0.080965\n",
              "contents_attribute_d      0.070320\n",
              "person_prefer_d_2         0.063553\n",
              "person_prefer_d_1         0.059742\n",
              "contents_attribute_h      0.058717\n",
              "person_prefer_d_3         0.057571\n",
              "person_prefer_h_2         0.053023\n",
              "person_prefer_h_3         0.049226\n",
              "person_prefer_h_1         0.047152\n",
              "person_attribute_a_1      0.038158\n",
              "person_prefer_e           0.033528\n",
              "contents_attribute_e      0.029345\n",
              "person_attribute_b        0.024194\n",
              "contents_attribute_m      0.024036\n",
              "person_prefer_c           0.018411\n",
              "contents_attribute_j_1    0.018193\n",
              "contents_attribute_i      0.017814\n",
              "contents_attribute_a      0.017351\n",
              "d_l_match_yn              0.012203\n",
              "contents_attribute_c      0.011137\n",
              "person_attribute_a        0.010326\n",
              "d_m_match_yn              0.007126\n",
              "h_m_match_yn              0.006368\n",
              "h_s_match_yn              0.006176\n",
              "h_l_match_yn              0.005975\n",
              "contents_attribute_j      0.005190\n",
              "d_s_match_yn              0.004838\n",
              "contents_attribute_k      0.004028\n",
              "person_prefer_f           0.000000\n",
              "person_prefer_g           0.000000\n",
              "dtype: float64"
            ]
          },
          "metadata": {},
          "execution_count": 12
        }
      ]
    },
    {
      "cell_type": "code",
      "source": [
        "print(feature_imp.index[:16])"
      ],
      "metadata": {
        "colab": {
          "base_uri": "https://localhost:8080/"
        },
        "id": "jAg3_2Q1JVoN",
        "outputId": "332fbc43-ed15-4f55-c148-e1cefcb31288"
      },
      "execution_count": null,
      "outputs": [
        {
          "output_type": "stream",
          "name": "stdout",
          "text": [
            "Index(['contents_rn', 'person_rn', 'contents_attribute_l',\n",
            "       'contents_attribute_d', 'person_prefer_d_2', 'person_prefer_d_1',\n",
            "       'contents_attribute_h', 'person_prefer_d_3', 'person_prefer_h_2',\n",
            "       'person_prefer_h_3', 'person_prefer_h_1', 'person_attribute_a_1',\n",
            "       'person_prefer_e', 'contents_attribute_e', 'person_attribute_b',\n",
            "       'contents_attribute_m'],\n",
            "      dtype='object')\n"
          ]
        }
      ]
    },
    {
      "cell_type": "code",
      "source": [
        "import matplotlib.pyplot as plt\n",
        "import seaborn as sns\n",
        "%matplotlib inline\n",
        "# Creating a bar plot\n",
        "sns.barplot(x=feature_imp, y=feature_imp.index)\n",
        "# Add labels to your graph\n",
        "plt.xlabel('Feature Importance Score')\n",
        "plt.ylabel('Features')\n",
        "plt.title(\"Visualizing Important Features\")\n",
        "plt.legend()\n",
        "plt.show()"
      ],
      "metadata": {
        "colab": {
          "base_uri": "https://localhost:8080/",
          "height": 313
        },
        "id": "8iVWys-NGPqP",
        "outputId": "7d957eb9-fe1c-47af-e21d-158aff565db1"
      },
      "execution_count": null,
      "outputs": [
        {
          "output_type": "stream",
          "name": "stderr",
          "text": [
            "No handles with labels found to put in legend.\n"
          ]
        },
        {
          "output_type": "display_data",
          "data": {
            "image/png": "[encoded data removed]",
            "text/plain": [
              "<Figure size 432x288 with 1 Axes>"
            ]
          },
          "metadata": {
            "needs_background": "light"
          }
        }
      ]
    },
    {
      "cell_type": "markdown",
      "source": [
        "그래서 위 요소들 중에 가장 importance 가 낮은것 제외 상위 16개만 학습하면?"
      ],
      "metadata": {
        "id": "CD-sMNCVJJVr"
      }
    },
    {
      "cell_type": "code",
      "source": [
        "from sklearn.model_selection import train_test_split\n",
        "# Split dataset into features and labels\n",
        "X=jobs[['contents_rn', 'person_rn', 'contents_attribute_l',\n",
        "       'contents_attribute_d', 'person_prefer_d_2', 'person_prefer_d_1',\n",
        "       'contents_attribute_h', 'person_prefer_d_3', 'person_prefer_h_2',\n",
        "       'person_prefer_h_3', 'person_prefer_h_1', 'person_attribute_a_1',\n",
        "       'person_prefer_e', 'contents_attribute_e', 'person_attribute_b',\n",
        "       'contents_attribute_m']]  # Removed feature \"sepal length\"\n",
        "y=jobs['target']                                       \n",
        "# Split dataset into training set and test set\n",
        "X_train, X_test, y_train, y_test = train_test_split(X, y, test_size=0.70, random_state=5) \n",
        "\n"
      ],
      "metadata": {
        "id": "9mPMu3XbI3DN"
      },
      "execution_count": null,
      "outputs": []
    },
    {
      "cell_type": "code",
      "source": [
        "from sklearn.ensemble import RandomForestClassifier\n",
        "\n",
        "#Create a Gaussian Classifier\n",
        "clf=RandomForestClassifier(n_estimators=100)\n",
        "\n",
        "#Train the model using the training sets y_pred=clf.predict(X_test)\n",
        "clf.fit(X_train,y_train)\n",
        "\n",
        "# prediction on test set\n",
        "y_pred=clf.predict(X_test)\n",
        "\n",
        "#Import scikit-learn metrics module for accuracy calculation\n",
        "from sklearn import metrics\n",
        "# Model Accuracy, how often is the classifier correct?\n",
        "print(\"Accuracy:\",metrics.accuracy_score(y_test, y_pred))"
      ],
      "metadata": {
        "colab": {
          "base_uri": "https://localhost:8080/"
        },
        "id": "q8E-0IowKtTL",
        "outputId": "28a2874b-2e83-43ed-c2f1-7c2fdebb4d66"
      },
      "execution_count": null,
      "outputs": [
        {
          "output_type": "stream",
          "name": "stdout",
          "text": [
            "Accuracy: 0.6007752599853144\n"
          ]
        }
      ]
    },
    {
      "cell_type": "code",
      "source": [
        ""
      ],
      "metadata": {
        "id": "KQqjhy7jK7HS"
      },
      "execution_count": null,
      "outputs": []
    }
  ]
}
