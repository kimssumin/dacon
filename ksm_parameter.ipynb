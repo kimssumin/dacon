{
  "nbformat": 4,
  "nbformat_minor": 0,
  "metadata": {
    "colab": {
      "name": "job_base_ksm.ipynb",
      "provenance": [],
      "collapsed_sections": [
        "AN5Duv4rOCzQ"
      ]
    },
    "kernelspec": {
      "name": "python3",
      "display_name": "Python 3"
    },
    "language_info": {
      "name": "python"
    },
    "accelerator": "GPU"
  },
  "cells": [
    {
      "cell_type": "code",
      "source": [
        "from google import colab\n",
        "\n",
        "colab.drive.mount(\"/content/drive\")"
      ],
      "metadata": {
        "colab": {
          "base_uri": "https://localhost:8080/"
        },
        "id": "wu_FZAuQLSyy",
        "outputId": "51a6393c-c20c-44f1-bbc8-ecc85075c4e0"
      },
      "execution_count": 1,
      "outputs": [
        {
          "output_type": "stream",
          "name": "stdout",
          "text": [
            "Mounted at /content/drive\n"
          ]
        }
      ]
    },
    {
      "cell_type": "code",
      "source": [
        "data_path = '/content/drive/Shareddrives/JobCare/Jobcare_data/'\n",
        "submit_path = '/content/drive/Shareddrives/JobCare/submit/'\n",
        "SEED = 42"
      ],
      "metadata": {
        "id": "mGzVVm7jLaY9"
      },
      "execution_count": 2,
      "outputs": []
    },
    {
      "cell_type": "code",
      "source": [
        "import os\n",
        "import sys\n",
        "import platform\n",
        "import random\n",
        "import math\n",
        "from typing import List ,Dict, Tuple\n",
        "\n",
        "import pandas as pd\n",
        "import numpy as np\n",
        " \n",
        "import sklearn \n",
        "from sklearn.model_selection import StratifiedKFold , KFold\n",
        "from sklearn.metrics import f1_score "
      ],
      "metadata": {
        "id": "rcAtBVKSMEok"
      },
      "execution_count": 3,
      "outputs": []
    },
    {
      "cell_type": "code",
      "source": [
        "!pip install catboost"
      ],
      "metadata": {
        "colab": {
          "base_uri": "https://localhost:8080/"
        },
        "id": "W7DQjTMIUO9A",
        "outputId": "a5874f7e-b5ba-4b7e-cb20-1d30100cf458"
      },
      "execution_count": 4,
      "outputs": [
        {
          "output_type": "stream",
          "name": "stdout",
          "text": [
            "Collecting catboost\n",
            "  Downloading catboost-1.0.4-cp37-none-manylinux1_x86_64.whl (76.1 MB)\n",
            "\u001b[K     |████████████████████████████████| 76.1 MB 1.3 MB/s \n",
            "\u001b[?25hRequirement already satisfied: six in /usr/local/lib/python3.7/dist-packages (from catboost) (1.15.0)\n",
            "Requirement already satisfied: numpy>=1.16.0 in /usr/local/lib/python3.7/dist-packages (from catboost) (1.19.5)\n",
            "Requirement already satisfied: graphviz in /usr/local/lib/python3.7/dist-packages (from catboost) (0.10.1)\n",
            "Requirement already satisfied: plotly in /usr/local/lib/python3.7/dist-packages (from catboost) (4.4.1)\n",
            "Requirement already satisfied: pandas>=0.24.0 in /usr/local/lib/python3.7/dist-packages (from catboost) (1.1.5)\n",
            "Requirement already satisfied: matplotlib in /usr/local/lib/python3.7/dist-packages (from catboost) (3.2.2)\n",
            "Requirement already satisfied: scipy in /usr/local/lib/python3.7/dist-packages (from catboost) (1.4.1)\n",
            "Requirement already satisfied: python-dateutil>=2.7.3 in /usr/local/lib/python3.7/dist-packages (from pandas>=0.24.0->catboost) (2.8.2)\n",
            "Requirement already satisfied: pytz>=2017.2 in /usr/local/lib/python3.7/dist-packages (from pandas>=0.24.0->catboost) (2018.9)\n",
            "Requirement already satisfied: pyparsing!=2.0.4,!=2.1.2,!=2.1.6,>=2.0.1 in /usr/local/lib/python3.7/dist-packages (from matplotlib->catboost) (3.0.6)\n",
            "Requirement already satisfied: cycler>=0.10 in /usr/local/lib/python3.7/dist-packages (from matplotlib->catboost) (0.11.0)\n",
            "Requirement already satisfied: kiwisolver>=1.0.1 in /usr/local/lib/python3.7/dist-packages (from matplotlib->catboost) (1.3.2)\n",
            "Requirement already satisfied: retrying>=1.3.3 in /usr/local/lib/python3.7/dist-packages (from plotly->catboost) (1.3.3)\n",
            "Installing collected packages: catboost\n",
            "Successfully installed catboost-1.0.4\n"
          ]
        }
      ]
    },
    {
      "cell_type": "code",
      "source": [
        "train_data = pd.read_csv(f'{data_path}train.csv')\n",
        "test_data = pd.read_csv(f'{data_path}test.csv')\n",
        "\n",
        "code_d = pd.read_csv(f'{data_path}속성_D_코드.csv')\n",
        "code_h = pd.read_csv(f'{data_path}속성_H_코드.csv')\n",
        "code_l = pd.read_csv(f'{data_path}속성_L_코드.csv')\n",
        "\n",
        "train_data.shape , test_data.shape"
      ],
      "metadata": {
        "colab": {
          "base_uri": "https://localhost:8080/"
        },
        "id": "j2_mUOikMJd9",
        "outputId": "0d25d314-4646-4077-fd93-35b75a18d642"
      },
      "execution_count": 5,
      "outputs": [
        {
          "output_type": "execute_result",
          "data": {
            "text/plain": [
              "((501951, 35), (46404, 34))"
            ]
          },
          "metadata": {},
          "execution_count": 5
        }
      ]
    },
    {
      "cell_type": "code",
      "source": [
        "code_d.columns= [\"attribute_d\",\"attribute_d_d\",\"attribute_d_s\",\"attribute_d_m\",\"attribute_d_l\"]\n",
        "code_h.columns= [\"attribute_h\",\"attribute_h_p\",\"attribute_h_l\"]\n",
        "code_l.columns= [\"attribute_l\",\"attribute_l_d\",\"attribute_l_s\",\"attribute_l_m\",\"attribute_l_l\"]"
      ],
      "metadata": {
        "id": "NTHtrZpmMV8J"
      },
      "execution_count": 6,
      "outputs": []
    },
    {
      "cell_type": "code",
      "source": [
        "#데이터 merge\n",
        "def merge_codes(df:pd.DataFrame,df_code:pd.DataFrame,col:str)->pd.DataFrame:\n",
        "    df = df.copy()\n",
        "    df_code = df_code.copy()\n",
        "    df_code = df_code.add_prefix(f\"{col}_\")\n",
        "    df_code.columns.values[0] = col\n",
        "    return pd.merge(df,df_code,how=\"left\",on=col)"
      ],
      "metadata": {
        "id": "J8onJoNVNO4s"
      },
      "execution_count": 7,
      "outputs": []
    },
    {
      "cell_type": "code",
      "source": [
        "def preprocess_data(\n",
        "                    df:pd.DataFrame,is_train:bool = True, cols_merge:List[Tuple[str,pd.DataFrame]] = []  , cols_equi:List[Tuple[str,str]]= [] ,\n",
        "                    cols_drop:List[str] = [\"id\",\"person_prefer_f\",\"person_prefer_g\" ,\"contents_open_dt\"]\n",
        "                    )->Tuple[pd.DataFrame,np.ndarray]:\n",
        "    df = df.copy()\n",
        "\n",
        "    y_data = None\n",
        "    if is_train:\n",
        "        y_data = df[\"target\"].to_numpy()\n",
        "        df = df.drop(columns=\"target\")\n",
        "\n",
        "    for col, df_code in cols_merge:\n",
        "        df = merge_codes(df,df_code,col)\n",
        "\n",
        "    cols = df.select_dtypes(bool).columns.tolist()\n",
        "    df[cols] = df[cols].astype(int)\n",
        "\n",
        "    for col1, col2 in cols_equi:\n",
        "        df[f\"{col1}_{col2}\"] = (df[col1] == df[col2] ).astype(int)\n",
        "\n",
        "    df = df.drop(columns=cols_drop)\n",
        "    return (df , y_data)"
      ],
      "metadata": {
        "id": "JicgOeUaNS27"
      },
      "execution_count": 8,
      "outputs": []
    },
    {
      "cell_type": "code",
      "source": [
        "# 소분류 중분류 대분류 속성코드 merge 컬럼명 및 데이터 프레임 리스트\n",
        "cols_merge = [\n",
        "              (\"person_prefer_d_1\" , code_d),\n",
        "              (\"person_prefer_d_2\" , code_d),\n",
        "              (\"person_prefer_d_3\" , code_d),\n",
        "              (\"contents_attribute_d\" , code_d),\n",
        "              (\"person_prefer_h_1\" , code_h),\n",
        "              (\"person_prefer_h_2\" , code_h),\n",
        "              (\"person_prefer_h_3\" , code_h),\n",
        "              (\"contents_attribute_h\" , code_h),\n",
        "              (\"contents_attribute_l\" , code_l),\n",
        "]\n",
        "\n",
        "# 회원 속성과 콘텐츠 속성의 동일한 코드 여부에 대한 컬럼명 리스트\n",
        "cols_equi = [\n",
        "\n",
        "    (\"contents_attribute_c\",\"person_prefer_c\"),\n",
        "    (\"contents_attribute_e\",\"person_prefer_e\"),\n",
        "\n",
        "    (\"person_prefer_d_2_attribute_d_s\" , \"contents_attribute_d_attribute_d_s\"),\n",
        "    (\"person_prefer_d_2_attribute_d_m\" , \"contents_attribute_d_attribute_d_m\"),\n",
        "    (\"person_prefer_d_2_attribute_d_l\" , \"contents_attribute_d_attribute_d_l\"),\n",
        "    (\"person_prefer_d_3_attribute_d_s\" , \"contents_attribute_d_attribute_d_s\"),\n",
        "    (\"person_prefer_d_3_attribute_d_m\" , \"contents_attribute_d_attribute_d_m\"),\n",
        "    (\"person_prefer_d_3_attribute_d_l\" , \"contents_attribute_d_attribute_d_l\"),\n",
        "\n",
        "    (\"person_prefer_h_1_attribute_h_p\" , \"contents_attribute_h_attribute_h_p\"),\n",
        "    (\"person_prefer_h_2_attribute_h_p\" , \"contents_attribute_h_attribute_h_p\"),\n",
        "    (\"person_prefer_h_3_attribute_h_p\" , \"contents_attribute_h_attribute_h_p\"),\n",
        "\n",
        "]\n",
        "\n",
        "# 학습에 필요없는 컬럼 리스트\n",
        "cols_drop = [\"id\",\"person_prefer_f\",\"person_prefer_g\" ,\"contents_open_dt\", \"contents_rn\", ]"
      ],
      "metadata": {
        "id": "S0pvAnZwNZ7N"
      },
      "execution_count": 9,
      "outputs": []
    },
    {
      "cell_type": "code",
      "source": [
        "x_train, y_train = preprocess_data(train_data, cols_merge = cols_merge , cols_equi= cols_equi , cols_drop = cols_drop)\n",
        "x_test, _ = preprocess_data(test_data,is_train = False, cols_merge = cols_merge , cols_equi= cols_equi  , cols_drop = cols_drop)\n",
        "x_train.shape , y_train.shape , x_test.shape"
      ],
      "metadata": {
        "colab": {
          "base_uri": "https://localhost:8080/"
        },
        "id": "2Qsk56yzNi0f",
        "outputId": "02e757aa-7f97-4848-e773-d820973907bd"
      },
      "execution_count": 10,
      "outputs": [
        {
          "output_type": "execute_result",
          "data": {
            "text/plain": [
              "((501951, 68), (501951,), (46404, 68))"
            ]
          },
          "metadata": {},
          "execution_count": 10
        }
      ]
    },
    {
      "cell_type": "code",
      "source": [
        "# CatBoost 모델링\n",
        "from catboost import Pool,CatBoostClassifier\n",
        "\n",
        "def catboost_modeling(x_train, y_train, x_test, grow_policy, depth, learning_rate, l2_leaf_reg, random_seed, n):\n",
        "  \n",
        "  # 빈 Series인 test_pred 생성\n",
        "  test_pred = pd.Series([0 for x in range(len(x_test))], index=x_test.index)\n",
        "  \n",
        "  # 10-fold 모델링을 n회 반복할 것\n",
        "  for i in range(n):\n",
        "    kf = KFold(n_splits=10,shuffle = True, random_state=random_seed+i)\n",
        "    for train_index, valid_index in kf.split(x_train):\n",
        "      train_X, train_y = x_train.iloc[train_index], y_train[train_index]\n",
        "      valid_X, valid_y = x_train.iloc[valid_index], y_train[valid_index]\n",
        "      \n",
        "      # catBoost(grow_policy='Depthwise')\n",
        "      model = CatBoostClassifier(eval_metric = 'AUC',              # AUC로 성능 측정\n",
        "                                 iterations = 25000,               # 반복횟수 최대 25000\n",
        "                                 metric_period = 25000,            # 중간결과 출력X\n",
        "                                 early_stopping_rounds = 1000,     # 1000iteration 동안 AUC 증가 없으면 학습 중단\n",
        "                                 task_type = 'GPU',                # GPU 사용\n",
        "                                 grow_policy = grow_policy,        # 트리 노드 생성 방식\n",
        "                                                                   # 1) Depthwise(지정한 depth에 이를 때까지 level 순으로 노드 분할)\n",
        "                                                                   # 2) Lossguide(loss 변화가 큰 순으로 노드 분할)\n",
        "                                 depth = depth,                    # 트리 깊이\n",
        "                                 learning_rate = learning_rate,    # 러닝레이트\n",
        "                                 l2_leaf_reg = l2_leaf_reg,        # L2 정규화\n",
        "                                 random_seed = random_seed+i,      # 랜덤시드 고정\n",
        "                                 )\n",
        "      # 모델 학습\n",
        "      model.fit(train_X, train_y, eval_set=(valid_X, valid_y))\n",
        "    \n",
        "      # 모델 적용\n",
        "      test_pred += model.predict_proba(x_test)[:,1] /(10*n)\n",
        "    \n",
        "  # 설정된 디렉토리에 결과물 저장\n",
        "  sample_submission = pd.read_csv(f'{data_path}sample_submission.csv', index_col = 0)\n",
        "  submission = pd.DataFrame(data=test_pred, columns=sample_submission.columns, index=sample_submission.index)\n",
        "  #sample_submission.to_csv(f\"{submit_path}prediction.csv\", index=False)\n",
        "  submission.to_csv(f\"{submit_path}CatBoost_{grow_policy}_{str(depth)}.csv\", index=True)\n",
        "\n",
        "  return test_pred"
      ],
      "metadata": {
        "id": "OvVxeE-3oTQ9"
      },
      "execution_count": 25,
      "outputs": []
    },
    {
      "cell_type": "code",
      "source": [
        "data1 = catboost_modeling(x_train, y_train, x_test, 'Depthwise', 10, 0.02423, 20.35, 2014, 2)"
      ],
      "metadata": {
        "colab": {
          "base_uri": "https://localhost:8080/"
        },
        "id": "8-3OoJOapM1D",
        "outputId": "0a45650f-7d18-4f33-c3a2-479ca82b683f"
      },
      "execution_count": null,
      "outputs": [
        {
          "output_type": "stream",
          "name": "stdout",
          "text": [
            "0:\tlearn: 0.6496923\ttest: 0.6359651\tbest: 0.6359651 (0)\ttotal: 106ms\tremaining: 44m 13s\n",
            "bestTest = 0.700838387\n",
            "bestIteration = 6242\n",
            "Shrink model to first 6243 iterations.\n",
            "0:\tlearn: 0.6500806\ttest: 0.6317837\tbest: 0.6317837 (0)\ttotal: 105ms\tremaining: 43m 46s\n",
            "bestTest = 0.7029445171\n",
            "bestIteration = 4155\n",
            "Shrink model to first 4156 iterations.\n",
            "0:\tlearn: 0.6486618\ttest: 0.6311721\tbest: 0.6311721 (0)\ttotal: 107ms\tremaining: 44m 23s\n",
            "bestTest = 0.7010304332\n",
            "bestIteration = 4430\n",
            "Shrink model to first 4431 iterations.\n",
            "0:\tlearn: 0.6493526\ttest: 0.6320873\tbest: 0.6320873 (0)\ttotal: 108ms\tremaining: 44m 56s\n",
            "bestTest = 0.7005336881\n",
            "bestIteration = 4066\n",
            "Shrink model to first 4067 iterations.\n",
            "0:\tlearn: 0.6493253\ttest: 0.6373797\tbest: 0.6373797 (0)\ttotal: 105ms\tremaining: 43m 56s\n",
            "bestTest = 0.7026543617\n",
            "bestIteration = 4533\n",
            "Shrink model to first 4534 iterations.\n",
            "0:\tlearn: 0.6488696\ttest: 0.6368369\tbest: 0.6368369 (0)\ttotal: 115ms\tremaining: 47m 55s\n",
            "bestTest = 0.7052407265\n",
            "bestIteration = 4300\n",
            "Shrink model to first 4301 iterations.\n",
            "0:\tlearn: 0.6497951\ttest: 0.6363490\tbest: 0.6363490 (0)\ttotal: 107ms\tremaining: 44m 33s\n",
            "bestTest = 0.7037144601\n",
            "bestIteration = 4438\n",
            "Shrink model to first 4439 iterations.\n",
            "0:\tlearn: 0.6509462\ttest: 0.6354037\tbest: 0.6354037 (0)\ttotal: 106ms\tremaining: 44m 6s\n",
            "bestTest = 0.7000446022\n",
            "bestIteration = 3919\n",
            "Shrink model to first 3920 iterations.\n",
            "0:\tlearn: 0.6499900\ttest: 0.6345972\tbest: 0.6345972 (0)\ttotal: 105ms\tremaining: 43m 38s\n",
            "bestTest = 0.7036102116\n",
            "bestIteration = 4783\n",
            "Shrink model to first 4784 iterations.\n",
            "0:\tlearn: 0.6498189\ttest: 0.6313288\tbest: 0.6313288 (0)\ttotal: 121ms\tremaining: 50m 31s\n",
            "bestTest = 0.7023298442\n",
            "bestIteration = 5773\n",
            "Shrink model to first 5774 iterations.\n",
            "0:\tlearn: 0.6484072\ttest: 0.6349257\tbest: 0.6349257 (0)\ttotal: 108ms\tremaining: 44m 47s\n",
            "bestTest = 0.7020289302\n",
            "bestIteration = 4440\n",
            "Shrink model to first 4441 iterations.\n",
            "0:\tlearn: 0.6489103\ttest: 0.6385158\tbest: 0.6385158 (0)\ttotal: 107ms\tremaining: 44m 45s\n",
            "bestTest = 0.7041794658\n",
            "bestIteration = 6079\n",
            "Shrink model to first 6080 iterations.\n",
            "0:\tlearn: 0.6490017\ttest: 0.6336361\tbest: 0.6336361 (0)\ttotal: 116ms\tremaining: 48m 18s\n",
            "bestTest = 0.7006577849\n",
            "bestIteration = 4463\n",
            "Shrink model to first 4464 iterations.\n",
            "0:\tlearn: 0.6489767\ttest: 0.6371851\tbest: 0.6371851 (0)\ttotal: 111ms\tremaining: 46m 25s\n",
            "bestTest = 0.7052164674\n",
            "bestIteration = 4768\n",
            "Shrink model to first 4769 iterations.\n",
            "0:\tlearn: 0.6501959\ttest: 0.6308282\tbest: 0.6308282 (0)\ttotal: 105ms\tremaining: 43m 43s\n",
            "bestTest = 0.7010417581\n",
            "bestIteration = 5215\n",
            "Shrink model to first 5216 iterations.\n",
            "0:\tlearn: 0.6506745\ttest: 0.6324717\tbest: 0.6324717 (0)\ttotal: 106ms\tremaining: 44m 17s\n"
          ]
        }
      ]
    },
    {
      "cell_type": "code",
      "source": [
        "datas = pd.read_csv(\"/content/drive/Shareddrives/JobCare/submit/CatBoost_Depthwise_10.csv\")\n",
        "data_fin = pd.DataFrame(datas*2)\n",
        "data_fin.columns = datas.columns\n",
        "data_fin"
      ],
      "metadata": {
        "id": "D4Uxwgj-yfHL"
      },
      "execution_count": null,
      "outputs": []
    },
    {
      "cell_type": "code",
      "source": [
        "data4 = catboost_modeling(x_train, y_train, x_test, 'Lossguide', 16, 0.01213, 5.027, 2022, 2)"
      ],
      "metadata": {
        "id": "HBLdn9xMxv-5"
      },
      "execution_count": null,
      "outputs": []
    },
    {
      "cell_type": "code",
      "source": [
        "# 최종 모델 앙상블\n",
        "sample_submission = pd.read_csv(f'{data_path}sample_submission.csv')\n",
        "data_final = pd.DataFrame(data1)\n",
        "data_final.columns = sample_submission.columns\n",
        "data_final.to_csv(f\"{submit_path}final_data1_only.csv\", index=True)\n",
        "data_final"
      ],
      "metadata": {
        "colab": {
          "base_uri": "https://localhost:8080/",
          "height": 245
        },
        "id": "0rMEmw4GB8rv",
        "outputId": "785f5cec-da05-42ee-fb83-a70a20b93d97"
      },
      "execution_count": null,
      "outputs": [
        {
          "output_type": "error",
          "ename": "NameError",
          "evalue": "ignored",
          "traceback": [
            "\u001b[0;31m---------------------------------------------------------------------------\u001b[0m",
            "\u001b[0;31mNameError\u001b[0m                                 Traceback (most recent call last)",
            "\u001b[0;32m<ipython-input-43-3edb08315313>\u001b[0m in \u001b[0;36m<module>\u001b[0;34m()\u001b[0m\n\u001b[1;32m      1\u001b[0m \u001b[0;31m# 최종 모델 앙상블\u001b[0m\u001b[0;34m\u001b[0m\u001b[0;34m\u001b[0m\u001b[0;34m\u001b[0m\u001b[0m\n\u001b[1;32m      2\u001b[0m \u001b[0msample_submission\u001b[0m \u001b[0;34m=\u001b[0m \u001b[0mpd\u001b[0m\u001b[0;34m.\u001b[0m\u001b[0mread_csv\u001b[0m\u001b[0;34m(\u001b[0m\u001b[0;34mf'{data_path}sample_submission.csv'\u001b[0m\u001b[0;34m)\u001b[0m\u001b[0;34m\u001b[0m\u001b[0;34m\u001b[0m\u001b[0m\n\u001b[0;32m----> 3\u001b[0;31m \u001b[0mdata_final\u001b[0m \u001b[0;34m=\u001b[0m \u001b[0mpd\u001b[0m\u001b[0;34m.\u001b[0m\u001b[0mDataFrame\u001b[0m\u001b[0;34m(\u001b[0m\u001b[0mdata1\u001b[0m\u001b[0;34m)\u001b[0m\u001b[0;34m\u001b[0m\u001b[0;34m\u001b[0m\u001b[0m\n\u001b[0m\u001b[1;32m      4\u001b[0m \u001b[0mdata_final\u001b[0m\u001b[0;34m.\u001b[0m\u001b[0mcolumns\u001b[0m \u001b[0;34m=\u001b[0m \u001b[0msample_submission\u001b[0m\u001b[0;34m.\u001b[0m\u001b[0mcolumns\u001b[0m\u001b[0;34m\u001b[0m\u001b[0;34m\u001b[0m\u001b[0m\n\u001b[1;32m      5\u001b[0m \u001b[0mdata_final\u001b[0m\u001b[0;34m.\u001b[0m\u001b[0mto_csv\u001b[0m\u001b[0;34m(\u001b[0m\u001b[0;34mf\"{submit_path}CatBoost_'+grow_policy+'_'+str(depth)+'.csv\"\u001b[0m\u001b[0;34m,\u001b[0m \u001b[0mindex\u001b[0m\u001b[0;34m=\u001b[0m\u001b[0;32mTrue\u001b[0m\u001b[0;34m)\u001b[0m\u001b[0;34m\u001b[0m\u001b[0;34m\u001b[0m\u001b[0m\n",
            "\u001b[0;31mNameError\u001b[0m: name 'data1' is not defined"
          ]
        }
      ]
    },
    {
      "cell_type": "code",
      "source": [
        "'''# 최종 모델 앙상블\n",
        "sample_submission = pd.read_csv(f'{data_path}sample_submission.csv')\n",
        "data_final = pd.DataFrame((data1+data2)/2 *1/3 + (data3+data4)/2 *2/3)\n",
        "data_final.columns = sample_submission.columns\n",
        "data_final.to_csv('data_final.csv', index =True)\n",
        "data_final'''"
      ],
      "metadata": {
        "id": "9ckTv7cI-Xfi"
      },
      "execution_count": null,
      "outputs": []
    },
    {
      "cell_type": "code",
      "source": [
        "y_pred=clf.predict(x_test)"
      ],
      "metadata": {
        "id": "uYWqHJ5XTvjx"
      },
      "execution_count": null,
      "outputs": []
    },
    {
      "cell_type": "code",
      "source": [
        "#Import scikit-learn metrics module for accuracy calculation\n",
        "from sklearn import metrics\n",
        "# Model Accuracy, how often is the classifier correct?\n",
        "print(\"Accuracy:\",metrics.accuracy_score(y_test, y_pred))"
      ],
      "metadata": {
        "colab": {
          "base_uri": "https://localhost:8080/",
          "height": 360
        },
        "id": "gxvqiFrHT2v3",
        "outputId": "0ec6c417-53cc-4934-feed-e720009d8f85"
      },
      "execution_count": null,
      "outputs": [
        {
          "output_type": "error",
          "ename": "ValueError",
          "evalue": "ignored",
          "traceback": [
            "\u001b[0;31m---------------------------------------------------------------------------\u001b[0m",
            "\u001b[0;31mValueError\u001b[0m                                Traceback (most recent call last)",
            "\u001b[0;32m<ipython-input-79-b9d443f58819>\u001b[0m in \u001b[0;36m<module>\u001b[0;34m()\u001b[0m\n\u001b[1;32m      2\u001b[0m \u001b[0;32mfrom\u001b[0m \u001b[0msklearn\u001b[0m \u001b[0;32mimport\u001b[0m \u001b[0mmetrics\u001b[0m\u001b[0;34m\u001b[0m\u001b[0;34m\u001b[0m\u001b[0m\n\u001b[1;32m      3\u001b[0m \u001b[0;31m# Model Accuracy, how often is the classifier correct?\u001b[0m\u001b[0;34m\u001b[0m\u001b[0;34m\u001b[0m\u001b[0;34m\u001b[0m\u001b[0m\n\u001b[0;32m----> 4\u001b[0;31m \u001b[0mprint\u001b[0m\u001b[0;34m(\u001b[0m\u001b[0;34m\"Accuracy:\"\u001b[0m\u001b[0;34m,\u001b[0m\u001b[0mmetrics\u001b[0m\u001b[0;34m.\u001b[0m\u001b[0maccuracy_score\u001b[0m\u001b[0;34m(\u001b[0m\u001b[0my_test\u001b[0m\u001b[0;34m,\u001b[0m \u001b[0my_pred\u001b[0m\u001b[0;34m)\u001b[0m\u001b[0;34m)\u001b[0m\u001b[0;34m\u001b[0m\u001b[0;34m\u001b[0m\u001b[0m\n\u001b[0m",
            "\u001b[0;32m/usr/local/lib/python3.7/dist-packages/sklearn/metrics/_classification.py\u001b[0m in \u001b[0;36maccuracy_score\u001b[0;34m(y_true, y_pred, normalize, sample_weight)\u001b[0m\n\u001b[1;32m    209\u001b[0m \u001b[0;34m\u001b[0m\u001b[0m\n\u001b[1;32m    210\u001b[0m     \u001b[0;31m# Compute accuracy for each possible representation\u001b[0m\u001b[0;34m\u001b[0m\u001b[0;34m\u001b[0m\u001b[0;34m\u001b[0m\u001b[0m\n\u001b[0;32m--> 211\u001b[0;31m     \u001b[0my_type\u001b[0m\u001b[0;34m,\u001b[0m \u001b[0my_true\u001b[0m\u001b[0;34m,\u001b[0m \u001b[0my_pred\u001b[0m \u001b[0;34m=\u001b[0m \u001b[0m_check_targets\u001b[0m\u001b[0;34m(\u001b[0m\u001b[0my_true\u001b[0m\u001b[0;34m,\u001b[0m \u001b[0my_pred\u001b[0m\u001b[0;34m)\u001b[0m\u001b[0;34m\u001b[0m\u001b[0;34m\u001b[0m\u001b[0m\n\u001b[0m\u001b[1;32m    212\u001b[0m     \u001b[0mcheck_consistent_length\u001b[0m\u001b[0;34m(\u001b[0m\u001b[0my_true\u001b[0m\u001b[0;34m,\u001b[0m \u001b[0my_pred\u001b[0m\u001b[0;34m,\u001b[0m \u001b[0msample_weight\u001b[0m\u001b[0;34m)\u001b[0m\u001b[0;34m\u001b[0m\u001b[0;34m\u001b[0m\u001b[0m\n\u001b[1;32m    213\u001b[0m     \u001b[0;32mif\u001b[0m \u001b[0my_type\u001b[0m\u001b[0;34m.\u001b[0m\u001b[0mstartswith\u001b[0m\u001b[0;34m(\u001b[0m\u001b[0;34m\"multilabel\"\u001b[0m\u001b[0;34m)\u001b[0m\u001b[0;34m:\u001b[0m\u001b[0;34m\u001b[0m\u001b[0;34m\u001b[0m\u001b[0m\n",
            "\u001b[0;32m/usr/local/lib/python3.7/dist-packages/sklearn/metrics/_classification.py\u001b[0m in \u001b[0;36m_check_targets\u001b[0;34m(y_true, y_pred)\u001b[0m\n\u001b[1;32m     82\u001b[0m     \u001b[0my_pred\u001b[0m \u001b[0;34m:\u001b[0m \u001b[0marray\u001b[0m \u001b[0;32mor\u001b[0m \u001b[0mindicator\u001b[0m \u001b[0mmatrix\u001b[0m\u001b[0;34m\u001b[0m\u001b[0;34m\u001b[0m\u001b[0m\n\u001b[1;32m     83\u001b[0m     \"\"\"\n\u001b[0;32m---> 84\u001b[0;31m     \u001b[0mcheck_consistent_length\u001b[0m\u001b[0;34m(\u001b[0m\u001b[0my_true\u001b[0m\u001b[0;34m,\u001b[0m \u001b[0my_pred\u001b[0m\u001b[0;34m)\u001b[0m\u001b[0;34m\u001b[0m\u001b[0;34m\u001b[0m\u001b[0m\n\u001b[0m\u001b[1;32m     85\u001b[0m     \u001b[0mtype_true\u001b[0m \u001b[0;34m=\u001b[0m \u001b[0mtype_of_target\u001b[0m\u001b[0;34m(\u001b[0m\u001b[0my_true\u001b[0m\u001b[0;34m)\u001b[0m\u001b[0;34m\u001b[0m\u001b[0;34m\u001b[0m\u001b[0m\n\u001b[1;32m     86\u001b[0m     \u001b[0mtype_pred\u001b[0m \u001b[0;34m=\u001b[0m \u001b[0mtype_of_target\u001b[0m\u001b[0;34m(\u001b[0m\u001b[0my_pred\u001b[0m\u001b[0;34m)\u001b[0m\u001b[0;34m\u001b[0m\u001b[0;34m\u001b[0m\u001b[0m\n",
            "\u001b[0;32m/usr/local/lib/python3.7/dist-packages/sklearn/utils/validation.py\u001b[0m in \u001b[0;36mcheck_consistent_length\u001b[0;34m(*arrays)\u001b[0m\n\u001b[1;32m    332\u001b[0m         raise ValueError(\n\u001b[1;32m    333\u001b[0m             \u001b[0;34m\"Found input variables with inconsistent numbers of samples: %r\"\u001b[0m\u001b[0;34m\u001b[0m\u001b[0;34m\u001b[0m\u001b[0m\n\u001b[0;32m--> 334\u001b[0;31m             \u001b[0;34m%\u001b[0m \u001b[0;34m[\u001b[0m\u001b[0mint\u001b[0m\u001b[0;34m(\u001b[0m\u001b[0ml\u001b[0m\u001b[0;34m)\u001b[0m \u001b[0;32mfor\u001b[0m \u001b[0ml\u001b[0m \u001b[0;32min\u001b[0m \u001b[0mlengths\u001b[0m\u001b[0;34m]\u001b[0m\u001b[0;34m\u001b[0m\u001b[0;34m\u001b[0m\u001b[0m\n\u001b[0m\u001b[1;32m    335\u001b[0m         )\n\u001b[1;32m    336\u001b[0m \u001b[0;34m\u001b[0m\u001b[0m\n",
            "\u001b[0;31mValueError\u001b[0m: Found input variables with inconsistent numbers of samples: [150586, 46404]"
          ]
        }
      ]
    },
    {
      "cell_type": "markdown",
      "source": [
        "## sklearn 홈페이지 참조"
      ],
      "metadata": {
        "id": "AN5Duv4rOCzQ"
      }
    },
    {
      "cell_type": "code",
      "execution_count": null,
      "metadata": {
        "id": "BhGihk-z_y6c"
      },
      "outputs": [],
      "source": [
        "import pandas as pd \n",
        "\n",
        "jobs = pd.read_csv('/content/drive/Shareddrives/JobCare/Jobcare_data/train.csv', sep=',')"
      ]
    },
    {
      "cell_type": "code",
      "source": [
        "print(jobs.columns)\n",
        "print(jobs.id[0:5])"
      ],
      "metadata": {
        "colab": {
          "base_uri": "https://localhost:8080/"
        },
        "id": "Af4fo8iLBPCG",
        "outputId": "8d9cd1a8-8477-4e38-cacc-c22b958a230e"
      },
      "execution_count": null,
      "outputs": [
        {
          "output_type": "stream",
          "name": "stdout",
          "text": [
            "Index(['id', 'd_l_match_yn', 'd_m_match_yn', 'd_s_match_yn', 'h_l_match_yn',\n",
            "       'h_m_match_yn', 'h_s_match_yn', 'person_attribute_a',\n",
            "       'person_attribute_a_1', 'person_attribute_b', 'person_prefer_c',\n",
            "       'person_prefer_d_1', 'person_prefer_d_2', 'person_prefer_d_3',\n",
            "       'person_prefer_e', 'person_prefer_f', 'person_prefer_g',\n",
            "       'person_prefer_h_1', 'person_prefer_h_2', 'person_prefer_h_3',\n",
            "       'contents_attribute_i', 'contents_attribute_a',\n",
            "       'contents_attribute_j_1', 'contents_attribute_j',\n",
            "       'contents_attribute_c', 'contents_attribute_k', 'contents_attribute_l',\n",
            "       'contents_attribute_d', 'contents_attribute_m', 'contents_attribute_e',\n",
            "       'contents_attribute_h', 'person_rn', 'contents_rn', 'contents_open_dt',\n",
            "       'target'],\n",
            "      dtype='object')\n",
            "0    0\n",
            "1    1\n",
            "2    2\n",
            "3    3\n",
            "4    4\n",
            "Name: id, dtype: int64\n"
          ]
        }
      ]
    },
    {
      "cell_type": "code",
      "source": [
        "from sklearn.model_selection import train_test_split\n",
        "\n",
        "X=jobs[['d_l_match_yn', 'd_m_match_yn', 'd_s_match_yn', 'h_l_match_yn',\n",
        "       'h_m_match_yn', 'h_s_match_yn', 'person_attribute_a',\n",
        "       'person_attribute_a_1', 'person_attribute_b', 'person_prefer_c',\n",
        "       'person_prefer_d_1', 'person_prefer_d_2', 'person_prefer_d_3',\n",
        "       'person_prefer_e', 'person_prefer_f', 'person_prefer_g',\n",
        "       'person_prefer_h_1', 'person_prefer_h_2', 'person_prefer_h_3',\n",
        "       'contents_attribute_i', 'contents_attribute_a',\n",
        "       'contents_attribute_j_1', 'contents_attribute_j',\n",
        "       'contents_attribute_c', 'contents_attribute_k', 'contents_attribute_l',\n",
        "       'contents_attribute_d', 'contents_attribute_m', 'contents_attribute_e',\n",
        "       'contents_attribute_h', 'person_rn', 'contents_rn']]  # Features ('id','contents_open_dt' 제외)\n",
        "y=jobs['target']  # Labels\n",
        "\n",
        "# Split dataset into training set and test set\n",
        "X_train, X_test, y_train, y_test = train_test_split(X, y, test_size=0.3) # 70% training and 30% test"
      ],
      "metadata": {
        "id": "dgHUMhk3B3Pj"
      },
      "execution_count": null,
      "outputs": []
    },
    {
      "cell_type": "code",
      "source": [
        "#Import Random Forest Model\n",
        "from sklearn.ensemble import RandomForestClassifier\n",
        "\n",
        "#Create a Gaussian Classifier\n",
        "clf=RandomForestClassifier(n_estimators=100)\n",
        "\n",
        "#Train the model using the training sets y_pred=clf.predict(X_test)\n",
        "clf.fit(X_train,y_train)\n",
        "\n",
        "y_pred=clf.predict(X_test)"
      ],
      "metadata": {
        "id": "kj81AKT3Dbl2"
      },
      "execution_count": null,
      "outputs": []
    },
    {
      "cell_type": "code",
      "source": [
        "#Import scikit-learn metrics module for accuracy calculation\n",
        "from sklearn import metrics\n",
        "# Model Accuracy, how often is the classifier correct?\n",
        "print(\"Accuracy:\",metrics.accuracy_score(y_test, y_pred))"
      ],
      "metadata": {
        "colab": {
          "base_uri": "https://localhost:8080/"
        },
        "id": "5UkGb5pCDgqU",
        "outputId": "32ce0e15-df1b-427d-a35c-285c5110b39d"
      },
      "execution_count": null,
      "outputs": [
        {
          "output_type": "stream",
          "name": "stdout",
          "text": [
            "Accuracy: 0.6173548669863068\n"
          ]
        }
      ]
    },
    {
      "cell_type": "code",
      "source": [
        "import pandas as pd\n",
        "jobs.newcol = []\n",
        "for i in range(len(jobs.columns)):\n",
        "  if i != 0 and i <= 32:\n",
        "    jobs.newcol.append(jobs.columns[i])\n",
        "feature_imp = pd.Series(clf.feature_importances_,index=jobs.newcol).sort_values(ascending=False)\n",
        "feature_imp"
      ],
      "metadata": {
        "colab": {
          "base_uri": "https://localhost:8080/"
        },
        "id": "31ZVd78mGF1D",
        "outputId": "95dc73c0-cc8a-4b96-f022-0cb0e4199680"
      },
      "execution_count": null,
      "outputs": [
        {
          "output_type": "stream",
          "name": "stderr",
          "text": [
            "/usr/local/lib/python3.7/dist-packages/ipykernel_launcher.py:2: UserWarning: Pandas doesn't allow columns to be created via a new attribute name - see https://pandas.pydata.org/pandas-docs/stable/indexing.html#attribute-access\n",
            "  \n"
          ]
        },
        {
          "output_type": "execute_result",
          "data": {
            "text/plain": [
              "contents_rn               0.083424\n",
              "person_rn                 0.081912\n",
              "contents_attribute_l      0.080965\n",
              "contents_attribute_d      0.070320\n",
              "person_prefer_d_2         0.063553\n",
              "person_prefer_d_1         0.059742\n",
              "contents_attribute_h      0.058717\n",
              "person_prefer_d_3         0.057571\n",
              "person_prefer_h_2         0.053023\n",
              "person_prefer_h_3         0.049226\n",
              "person_prefer_h_1         0.047152\n",
              "person_attribute_a_1      0.038158\n",
              "person_prefer_e           0.033528\n",
              "contents_attribute_e      0.029345\n",
              "person_attribute_b        0.024194\n",
              "contents_attribute_m      0.024036\n",
              "person_prefer_c           0.018411\n",
              "contents_attribute_j_1    0.018193\n",
              "contents_attribute_i      0.017814\n",
              "contents_attribute_a      0.017351\n",
              "d_l_match_yn              0.012203\n",
              "contents_attribute_c      0.011137\n",
              "person_attribute_a        0.010326\n",
              "d_m_match_yn              0.007126\n",
              "h_m_match_yn              0.006368\n",
              "h_s_match_yn              0.006176\n",
              "h_l_match_yn              0.005975\n",
              "contents_attribute_j      0.005190\n",
              "d_s_match_yn              0.004838\n",
              "contents_attribute_k      0.004028\n",
              "person_prefer_f           0.000000\n",
              "person_prefer_g           0.000000\n",
              "dtype: float64"
            ]
          },
          "metadata": {},
          "execution_count": 12
        }
      ]
    },
    {
      "cell_type": "code",
      "source": [
        "print(feature_imp.index[:16])"
      ],
      "metadata": {
        "colab": {
          "base_uri": "https://localhost:8080/"
        },
        "id": "jAg3_2Q1JVoN",
        "outputId": "332fbc43-ed15-4f55-c148-e1cefcb31288"
      },
      "execution_count": null,
      "outputs": [
        {
          "output_type": "stream",
          "name": "stdout",
          "text": [
            "Index(['contents_rn', 'person_rn', 'contents_attribute_l',\n",
            "       'contents_attribute_d', 'person_prefer_d_2', 'person_prefer_d_1',\n",
            "       'contents_attribute_h', 'person_prefer_d_3', 'person_prefer_h_2',\n",
            "       'person_prefer_h_3', 'person_prefer_h_1', 'person_attribute_a_1',\n",
            "       'person_prefer_e', 'contents_attribute_e', 'person_attribute_b',\n",
            "       'contents_attribute_m'],\n",
            "      dtype='object')\n"
          ]
        }
      ]
    },
    {
      "cell_type": "code",
      "source": [
        "import matplotlib.pyplot as plt\n",
        "import seaborn as sns\n",
        "%matplotlib inline\n",
        "# Creating a bar plot\n",
        "sns.barplot(x=feature_imp, y=feature_imp.index)\n",
        "# Add labels to your graph\n",
        "plt.xlabel('Feature Importance Score')\n",
        "plt.ylabel('Features')\n",
        "plt.title(\"Visualizing Important Features\")\n",
        "plt.legend()\n",
        "plt.show()"
      ],
      "metadata": {
        "colab": {
          "base_uri": "https://localhost:8080/",
          "height": 313
        },
        "id": "8iVWys-NGPqP",
        "outputId": "7d957eb9-fe1c-47af-e21d-158aff565db1"
      },
      "execution_count": null,
      "outputs": [
        {
          "output_type": "stream",
          "name": "stderr",
          "text": [
            "No handles with labels found to put in legend.\n"
          ]
        },
        {
          "output_type": "display_data",
          "data": {
            "image/png": "[encoded data removed]",
            "text/plain": [
              "<Figure size 432x288 with 1 Axes>"
            ]
          },
          "metadata": {
            "needs_background": "light"
          }
        }
      ]
    },
    {
      "cell_type": "markdown",
      "source": [
        "그래서 위 요소들 중에 가장 importance 가 낮은것 제외 상위 16개만 학습하면?"
      ],
      "metadata": {
        "id": "CD-sMNCVJJVr"
      }
    },
    {
      "cell_type": "code",
      "source": [
        "from sklearn.model_selection import train_test_split\n",
        "# Split dataset into features and labels\n",
        "X=jobs[['contents_rn', 'person_rn', 'contents_attribute_l',\n",
        "       'contents_attribute_d', 'person_prefer_d_2', 'person_prefer_d_1',\n",
        "       'contents_attribute_h', 'person_prefer_d_3', 'person_prefer_h_2',\n",
        "       'person_prefer_h_3', 'person_prefer_h_1', 'person_attribute_a_1',\n",
        "       'person_prefer_e', 'contents_attribute_e', 'person_attribute_b',\n",
        "       'contents_attribute_m']]  # Removed feature \"sepal length\"\n",
        "y=jobs['target']                                       \n",
        "# Split dataset into training set and test set\n",
        "X_train, X_test, y_train, y_test = train_test_split(X, y, test_size=0.70, random_state=5) \n",
        "\n"
      ],
      "metadata": {
        "id": "9mPMu3XbI3DN"
      },
      "execution_count": null,
      "outputs": []
    },
    {
      "cell_type": "code",
      "source": [
        "from sklearn.ensemble import RandomForestClassifier\n",
        "\n",
        "#Create a Gaussian Classifier\n",
        "clf=RandomForestClassifier(n_estimators=100)\n",
        "\n",
        "#Train the model using the training sets y_pred=clf.predict(X_test)\n",
        "clf.fit(X_train,y_train)\n",
        "\n",
        "# prediction on test set\n",
        "y_pred=clf.predict(X_test)\n",
        "\n",
        "#Import scikit-learn metrics module for accuracy calculation\n",
        "from sklearn import metrics\n",
        "# Model Accuracy, how often is the classifier correct?\n",
        "print(\"Accuracy:\",metrics.accuracy_score(y_test, y_pred))"
      ],
      "metadata": {
        "colab": {
          "base_uri": "https://localhost:8080/"
        },
        "id": "q8E-0IowKtTL",
        "outputId": "28a2874b-2e83-43ed-c2f1-7c2fdebb4d66"
      },
      "execution_count": null,
      "outputs": [
        {
          "output_type": "stream",
          "name": "stdout",
          "text": [
            "Accuracy: 0.6007752599853144\n"
          ]
        }
      ]
    },
    {
      "cell_type": "code",
      "source": [
        ""
      ],
      "metadata": {
        "id": "KQqjhy7jK7HS"
      },
      "execution_count": null,
      "outputs": []
    }
  ]
}