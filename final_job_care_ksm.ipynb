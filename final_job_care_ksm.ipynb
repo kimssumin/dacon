{
  "nbformat": 4,
  "nbformat_minor": 0,
  "metadata": {
    "colab": {
      "name": "final_job_care_ksm.ipynb",
      "provenance": [],
      "collapsed_sections": []
    },
    "kernelspec": {
      "display_name": "Python 3",
      "name": "python3"
    },
    "language_info": {
      "name": "python"
    },
    "accelerator": "GPU"
  },
  "cells": [
    {
      "cell_type": "markdown",
      "source": [
        "## 기본 setting\n"
      ],
      "metadata": {
        "id": "Xzj7AcDSE4jm"
      }
    },
    {
      "cell_type": "markdown",
      "metadata": {
        "id": "UXQY-42F_gRc"
      },
      "source": [
        "### 구글 드라이브 연동"
      ]
    },
    {
      "cell_type": "code",
      "metadata": {
        "id": "ZdtRMd4lglpO",
        "colab": {
          "base_uri": "https://localhost:8080/"
        },
        "outputId": "25b2b674-0b1c-474d-cf6d-50ad7f2f8383"
      },
      "source": [
        "from google import colab\n",
        "colab.drive.mount(\"/content/drive\")"
      ],
      "execution_count": null,
      "outputs": [
        {
          "output_type": "stream",
          "name": "stdout",
          "text": [
            "Mounted at /content/drive\n"
          ]
        }
      ]
    },
    {
      "cell_type": "markdown",
      "metadata": {
        "id": "881lD0VJ_m2y"
      },
      "source": [
        "### data_path"
      ]
    },
    {
      "cell_type": "code",
      "source": [
        "DATA_PATH = \"/content/drive/Shareddrives/JobCare/Jobcare_data/\"\n",
        "SUBMIT_PATH = \"/content/drive/Shareddrives/JobCare/submit/\"\n",
        "SEED = 42"
      ],
      "metadata": {
        "id": "i2SORQEJMcOT"
      },
      "execution_count": null,
      "outputs": []
    },
    {
      "cell_type": "markdown",
      "source": [
        "### catboost install"
      ],
      "metadata": {
        "id": "J0yyXjHXJMJ1"
      }
    },
    {
      "cell_type": "code",
      "source": [
        "!pip install catboost"
      ],
      "metadata": {
        "colab": {
          "base_uri": "https://localhost:8080/"
        },
        "id": "MQlCENZDe5Eg",
        "outputId": "08a4c484-1adb-4079-a2b5-5b25dee803e9"
      },
      "execution_count": null,
      "outputs": [
        {
          "output_type": "stream",
          "name": "stdout",
          "text": [
            "Collecting catboost\n",
            "  Downloading catboost-1.0.4-cp37-none-manylinux1_x86_64.whl (76.1 MB)\n",
            "\u001b[K     |████████████████████████████████| 76.1 MB 1.3 MB/s \n",
            "\u001b[?25hRequirement already satisfied: numpy>=1.16.0 in /usr/local/lib/python3.7/dist-packages (from catboost) (1.19.5)\n",
            "Requirement already satisfied: scipy in /usr/local/lib/python3.7/dist-packages (from catboost) (1.4.1)\n",
            "Requirement already satisfied: matplotlib in /usr/local/lib/python3.7/dist-packages (from catboost) (3.2.2)\n",
            "Requirement already satisfied: six in /usr/local/lib/python3.7/dist-packages (from catboost) (1.15.0)\n",
            "Requirement already satisfied: pandas>=0.24.0 in /usr/local/lib/python3.7/dist-packages (from catboost) (1.1.5)\n",
            "Requirement already satisfied: graphviz in /usr/local/lib/python3.7/dist-packages (from catboost) (0.10.1)\n",
            "Requirement already satisfied: plotly in /usr/local/lib/python3.7/dist-packages (from catboost) (4.4.1)\n",
            "Requirement already satisfied: python-dateutil>=2.7.3 in /usr/local/lib/python3.7/dist-packages (from pandas>=0.24.0->catboost) (2.8.2)\n",
            "Requirement already satisfied: pytz>=2017.2 in /usr/local/lib/python3.7/dist-packages (from pandas>=0.24.0->catboost) (2018.9)\n",
            "Requirement already satisfied: pyparsing!=2.0.4,!=2.1.2,!=2.1.6,>=2.0.1 in /usr/local/lib/python3.7/dist-packages (from matplotlib->catboost) (3.0.6)\n",
            "Requirement already satisfied: kiwisolver>=1.0.1 in /usr/local/lib/python3.7/dist-packages (from matplotlib->catboost) (1.3.2)\n",
            "Requirement already satisfied: cycler>=0.10 in /usr/local/lib/python3.7/dist-packages (from matplotlib->catboost) (0.11.0)\n",
            "Requirement already satisfied: retrying>=1.3.3 in /usr/local/lib/python3.7/dist-packages (from plotly->catboost) (1.3.3)\n",
            "Installing collected packages: catboost\n",
            "Successfully installed catboost-1.0.4\n"
          ]
        }
      ]
    },
    {
      "cell_type": "markdown",
      "source": [
        "### 라이브러리 import"
      ],
      "metadata": {
        "id": "TKOGpC7sTJLj"
      }
    },
    {
      "cell_type": "code",
      "source": [
        "import os\n",
        "import sys\n",
        "import platform\n",
        "import random\n",
        "import math\n",
        "from typing import List ,Dict, Tuple\n",
        "\n",
        "import pandas as pd\n",
        "import numpy as np\n",
        " \n",
        "import sklearn \n",
        "from sklearn.model_selection import StratifiedKFold , KFold\n",
        "from sklearn.metrics import f1_score \n",
        "\n",
        "from catboost import Pool,CatBoostClassifier\n",
        "\n",
        "print(f\"- os: {platform.platform()}\")\n",
        "print(f\"- python: {sys.version}\")\n",
        "print(f\"- pandas: {pd.__version__}\")\n",
        "print(f\"- numpy: {np.__version__}\")\n",
        "print(f\"- sklearn: {sklearn.__version__}\")"
      ],
      "metadata": {
        "colab": {
          "base_uri": "https://localhost:8080/"
        },
        "id": "mVGRBMjBTF_D",
        "outputId": "79aafb17-8056-4abc-96a3-504429e53000"
      },
      "execution_count": null,
      "outputs": [
        {
          "output_type": "stream",
          "name": "stdout",
          "text": [
            "- os: Linux-5.4.144+-x86_64-with-Ubuntu-18.04-bionic\n",
            "- python: 3.7.12 (default, Sep 10 2021, 00:21:48) \n",
            "[GCC 7.5.0]\n",
            "- pandas: 1.1.5\n",
            "- numpy: 1.19.5\n",
            "- sklearn: 1.0.2\n"
          ]
        }
      ]
    },
    {
      "cell_type": "markdown",
      "source": [
        "## 데이터 불러오기"
      ],
      "metadata": {
        "id": "ZR004VEjJmEd"
      }
    },
    {
      "cell_type": "code",
      "source": [
        "train_data = pd.read_csv(f'{DATA_PATH}train.csv')\n",
        "test_data = pd.read_csv(f'{DATA_PATH}test.csv')\n",
        "\n",
        "code_d = pd.read_csv(f'{DATA_PATH}속성_D_코드.csv')#.iloc[:,:-1]\n",
        "code_h = pd.read_csv(f'{DATA_PATH}속성_H_코드.csv')\n",
        "code_l = pd.read_csv(f'{DATA_PATH}속성_L_코드.csv')\n",
        "\n",
        "train_data.shape , test_data.shape"
      ],
      "metadata": {
        "colab": {
          "base_uri": "https://localhost:8080/"
        },
        "id": "aRdNRpPYTFsD",
        "outputId": "2b91daf4-bea1-4191-af79-3be8c2182ae9"
      },
      "execution_count": null,
      "outputs": [
        {
          "output_type": "execute_result",
          "data": {
            "text/plain": [
              "((501951, 35), (46404, 34))"
            ]
          },
          "metadata": {},
          "execution_count": 5
        }
      ]
    },
    {
      "cell_type": "markdown",
      "source": [
        "## 속성 코드 데이터 컬럼\n"
      ],
      "metadata": {
        "id": "DA0-1EWg7wcz"
      }
    },
    {
      "cell_type": "code",
      "source": [
        "code_d.columns= [\"attribute_d\",\"attribute_d_d\",\"attribute_d_s\",\"attribute_d_m\",\"attribute_d_l\"]\n",
        "code_h.columns= [\"attribute_h\",\"attribute_h_p\", \"attribute_h_l\"]\n",
        "code_l.columns= [\"attribute_l\",\"attribute_l_d\",\"attribute_l_s\",\"attribute_l_m\",\"attribute_l_l\"]"
      ],
      "metadata": {
        "id": "fIxU3g8ZzRb_"
      },
      "execution_count": null,
      "outputs": []
    },
    {
      "cell_type": "markdown",
      "source": [
        "### 속성코드 데이터 merge 함수"
      ],
      "metadata": {
        "id": "YYinXio-Jztc"
      }
    },
    {
      "cell_type": "code",
      "source": [
        "def merge_codes(df:pd.DataFrame,df_code:pd.DataFrame,col:str)->pd.DataFrame:\n",
        "    df = df.copy()\n",
        "    df_code = df_code.copy()\n",
        "    df_code = df_code.add_prefix(f\"{col}_\")\n",
        "    df_code.columns.values[0] = col\n",
        "    return pd.merge(df,df_code,how=\"left\",on=col)"
      ],
      "metadata": {
        "id": "x6UbJ3yX70iO"
      },
      "execution_count": null,
      "outputs": []
    },
    {
      "cell_type": "markdown",
      "source": [
        "## preprocess data"
      ],
      "metadata": {
        "id": "N_C3hcvRJ6WF"
      }
    },
    {
      "cell_type": "code",
      "source": [
        "def preprocess_data(\n",
        "                    df:pd.DataFrame,is_train:bool = True, cols_merge:List[Tuple[str,pd.DataFrame]] = []  , cols_equi:List[Tuple[str,str]]= [] ,\n",
        "                    cols_drop:List[str] = [\"id\",\"person_prefer_f\",\"person_prefer_g\" ,\"person_rn\"]\n",
        "                    )->Tuple[pd.DataFrame,np.ndarray]:\n",
        "    df = df.copy()\n",
        "\n",
        "    y_data = None\n",
        "    if is_train:\n",
        "        y_data = df[\"target\"].to_numpy()\n",
        "        df = df.drop(columns=\"target\")\n",
        "\n",
        "    for col, df_code in cols_merge:\n",
        "        df = merge_codes(df,df_code,col)\n",
        "\n",
        "    cols = df.select_dtypes(bool).columns.tolist()\n",
        "    df[cols] = df[cols].astype(int)\n",
        "\n",
        "    for col1, col2 in cols_equi:\n",
        "        df[f\"{col1}_{col2}\"] = (df[col1] == df[col2] ).astype(int)\n",
        "\n",
        "    df = df.drop(columns=cols_drop)\n",
        "    return (df , y_data)"
      ],
      "metadata": {
        "id": "uQaxKG0oTpXb"
      },
      "execution_count": null,
      "outputs": []
    },
    {
      "cell_type": "markdown",
      "source": [
        "### 전처리 컬럼명 정의"
      ],
      "metadata": {
        "id": "VKnaH0iFJ_gG"
      }
    },
    {
      "cell_type": "code",
      "source": [
        "# 소분류 중분류 대분류 속성코드 merge 컬럼명 및 데이터 프레임 리스트\n",
        "cols_merge = [\n",
        "              (\"person_prefer_d_1\" , code_d),\n",
        "              (\"person_prefer_d_2\" , code_d),\n",
        "              (\"person_prefer_d_3\" , code_d),\n",
        "              (\"contents_attribute_d\" , code_d),\n",
        "              (\"person_prefer_h_1\" , code_h),\n",
        "              (\"person_prefer_h_2\" , code_h),\n",
        "              (\"person_prefer_h_3\" , code_h),\n",
        "              (\"contents_attribute_h\" , code_h),\n",
        "              (\"contents_attribute_l\" , code_l),\n",
        "]\n",
        "\n",
        "# 회원 속성과 콘텐츠 속성의 동일한 코드 여부에 대한 컬럼명 리스트\n",
        "cols_equi = [\n",
        "\n",
        "    (\"contents_attribute_c\",\"person_prefer_c\"),\n",
        "    (\"contents_attribute_e\",\"person_prefer_e\"),\n",
        "\n",
        "    (\"person_prefer_d_2_attribute_d_s\" , \"contents_attribute_d_attribute_d_s\"),\n",
        "    (\"person_prefer_d_2_attribute_d_m\" , \"contents_attribute_d_attribute_d_m\"),\n",
        "    (\"person_prefer_d_2_attribute_d_l\" , \"contents_attribute_d_attribute_d_l\"),\n",
        "    (\"person_prefer_d_3_attribute_d_s\" , \"contents_attribute_d_attribute_d_s\"),\n",
        "    (\"person_prefer_d_3_attribute_d_m\" , \"contents_attribute_d_attribute_d_m\"),\n",
        "    (\"person_prefer_d_3_attribute_d_l\" , \"contents_attribute_d_attribute_d_l\"),\n",
        "\n",
        "    (\"person_prefer_h_1_attribute_h_p\" , \"contents_attribute_h_attribute_h_p\"),\n",
        "    (\"person_prefer_h_2_attribute_h_p\" , \"contents_attribute_h_attribute_h_p\"),\n",
        "    (\"person_prefer_h_3_attribute_h_p\" , \"contents_attribute_h_attribute_h_p\"),\n",
        "    (\"person_prefer_h_1_attribute_h_l\" , \"contents_attribute_h_attribute_h_l\"),\n",
        "    (\"person_prefer_h_2_attribute_h_l\" , \"contents_attribute_h_attribute_h_l\"),\n",
        "    (\"person_prefer_h_3_attribute_h_l\" , \"contents_attribute_h_attribute_h_l\"),\n",
        "\n",
        "]\n",
        "\n",
        "# 학습에 필요없는 컬럼 리스트\n",
        "cols_drop = [\"id\",\"person_prefer_f\",\"person_prefer_g\" , \"contents_rn\", \"person_rn\" ] #,\"contents_open_dt\""
      ],
      "metadata": {
        "id": "r-EDv_4gTsGr"
      },
      "execution_count": null,
      "outputs": []
    },
    {
      "cell_type": "code",
      "source": [
        "import datetime\n",
        "def preprocessing_contents_open_dt(data):\n",
        "    data['contents_open_dt'] = data['contents_open_dt'].astype('str')\n",
        "    DATE = data['contents_open_dt'].apply(lambda x: datetime.datetime.strptime(x, '%Y-%m-%d %H:%M:%S'))\n",
        "    \n",
        "    DATE = pd.DataFrame(DATE)\n",
        "    DATE = DATE.rename(columns = {'contents_open_dt': 'date'})\n",
        "    \n",
        "    DATE['Y'] = DATE['date'].apply(lambda x: x.timetuple()[0])\n",
        "    DATE['M'] = DATE['date'].apply(lambda x: x.timetuple()[1])\n",
        "    DATE['D'] = DATE['date'].apply(lambda x: x.timetuple()[2])\n",
        "    DATE['id'] = data['id']\n",
        "    \n",
        "    data = data.merge(DATE, on = 'id', how = 'left')\n",
        "    data = data.drop(columns = ['date', 'contents_open_dt'])\n",
        "    return data"
      ],
      "metadata": {
        "id": "oGEYQFDiLV29"
      },
      "execution_count": null,
      "outputs": []
    },
    {
      "cell_type": "markdown",
      "source": [
        "### train , test set 전처리"
      ],
      "metadata": {
        "id": "dIIYFriJKjdc"
      }
    },
    {
      "cell_type": "code",
      "source": [
        "train_data = preprocessing_contents_open_dt(train_data)\n",
        "test_data = preprocessing_contents_open_dt(test_data)\n",
        "\n",
        "# 확인 \n",
        "train_data_labels = train_data['target']\n",
        "train_data, test_data = train_data.align(test_data, join = 'inner', axis = 1)\n",
        "train_data['target'] = train_data_labels\n",
        "print(\"train_data.shape: \", train_data.shape)\n",
        "print(\"test_data.shape: \", test_data.shape)"
      ],
      "metadata": {
        "colab": {
          "base_uri": "https://localhost:8080/"
        },
        "id": "kpvW_nbGLbCL",
        "outputId": "1b8d1c5b-8925-41df-a499-e3184a8e9d01"
      },
      "execution_count": null,
      "outputs": [
        {
          "output_type": "stream",
          "name": "stdout",
          "text": [
            "train_data.shape:  (501951, 37)\n",
            "test_data.shape:  (46404, 36)\n"
          ]
        }
      ]
    },
    {
      "cell_type": "code",
      "source": [
        "x_train, y_train = preprocess_data(train_data, cols_merge = cols_merge , cols_equi= cols_equi , cols_drop = cols_drop)\n",
        "x_test, _ = preprocess_data(test_data,is_train = False, cols_merge = cols_merge , cols_equi= cols_equi  , cols_drop = cols_drop)\n",
        "x_train.shape , y_train.shape , x_test.shape"
      ],
      "metadata": {
        "colab": {
          "base_uri": "https://localhost:8080/"
        },
        "id": "xeHhs6pzTxvz",
        "outputId": "d137a0d9-f3be-47c1-b46a-2b6835d8c329"
      },
      "execution_count": null,
      "outputs": [
        {
          "output_type": "execute_result",
          "data": {
            "text/plain": [
              "((501951, 73), (501951,), (46404, 73))"
            ]
          },
          "metadata": {},
          "execution_count": 12
        }
      ]
    },
    {
      "cell_type": "markdown",
      "source": [
        "### 범주형 컬럼 리스트(catboost 파라미터에 넣을 용도)"
      ],
      "metadata": {
        "id": "okHoydC0KoLs"
      }
    },
    {
      "cell_type": "code",
      "source": [
        "cat_features = x_train.columns[x_train.nunique() > 2].tolist()"
      ],
      "metadata": {
        "id": "YBHeYPx4gHZv"
      },
      "execution_count": null,
      "outputs": []
    },
    {
      "cell_type": "markdown",
      "source": [
        "## parameter 설정"
      ],
      "metadata": {
        "id": "6aGHnC9OK63t"
      }
    },
    {
      "cell_type": "code",
      "source": [
        "is_holdout = False\n",
        "n_splits = 8\n",
        "iterations = 1000 #1500 \n",
        "patience = 100\n",
        "\n",
        "cv = KFold(n_splits=n_splits, shuffle=True, random_state=SEED)"
      ],
      "metadata": {
        "id": "mkdxBRJMgtzP"
      },
      "execution_count": null,
      "outputs": []
    },
    {
      "cell_type": "markdown",
      "source": [
        "## 학습"
      ],
      "metadata": {
        "id": "CDG1B-tzLCuM"
      }
    },
    {
      "cell_type": "code",
      "source": [
        "scores = []\n",
        "models = []\n",
        "\n",
        "\n",
        "models = []\n",
        "for tri, vai in cv.split(x_train):\n",
        "    print(\"=\"*50)\n",
        "    preds = []\n",
        "\n",
        "    model = CatBoostClassifier(iterations=iterations,random_state=SEED,task_type=\"GPU\",eval_metric=\"F1\",cat_features=cat_features,one_hot_max_size=4)\n",
        "    model.fit(x_train.iloc[tri], y_train[tri], \n",
        "            eval_set=[(x_train.iloc[vai], y_train[vai])], \n",
        "            early_stopping_rounds=patience ,\n",
        "            verbose = 1000\n",
        "        )\n",
        "    \n",
        "    models.append(model)\n",
        "    scores.append(model.get_best_score()[\"validation\"][\"F1\"])\n",
        "    if is_holdout:\n",
        "        break    "
      ],
      "metadata": {
        "colab": {
          "base_uri": "https://localhost:8080/"
        },
        "id": "rkeqaUk4ggbe",
        "outputId": "78368435-02e3-4085-c0d3-c2d1ffe4bb00"
      },
      "execution_count": null,
      "outputs": [
        {
          "output_type": "stream",
          "name": "stdout",
          "text": [
            "==================================================\n",
            "Learning rate set to 0.042452\n",
            "0:\tlearn: 0.6009467\ttest: 0.5973226\tbest: 0.5973226 (0)\ttotal: 524ms\tremaining: 8m 43s\n",
            "bestTest = 0.6778526525\n",
            "bestIteration = 386\n",
            "Shrink model to first 387 iterations.\n",
            "==================================================\n",
            "Learning rate set to 0.042452\n",
            "0:\tlearn: 0.6030131\ttest: 0.6058061\tbest: 0.6058061 (0)\ttotal: 462ms\tremaining: 7m 41s\n",
            "999:\tlearn: 0.6761722\ttest: 0.6857827\tbest: 0.6859542 (919)\ttotal: 5m 52s\tremaining: 0us\n",
            "bestTest = 0.6859542125\n",
            "bestIteration = 919\n",
            "Shrink model to first 920 iterations.\n",
            "==================================================\n",
            "Learning rate set to 0.042452\n",
            "0:\tlearn: 0.6031860\ttest: 0.6033597\tbest: 0.6033597 (0)\ttotal: 469ms\tremaining: 7m 48s\n",
            "bestTest = 0.6798174987\n",
            "bestIteration = 286\n",
            "Shrink model to first 287 iterations.\n",
            "==================================================\n",
            "Learning rate set to 0.042452\n",
            "0:\tlearn: 0.6033988\ttest: 0.6031369\tbest: 0.6031369 (0)\ttotal: 471ms\tremaining: 7m 50s\n",
            "bestTest = 0.6823729949\n",
            "bestIteration = 536\n",
            "Shrink model to first 537 iterations.\n",
            "==================================================\n",
            "Learning rate set to 0.042452\n",
            "0:\tlearn: 0.6109987\ttest: 0.6109030\tbest: 0.6109030 (0)\ttotal: 495ms\tremaining: 8m 14s\n",
            "bestTest = 0.6806448149\n",
            "bestIteration = 705\n",
            "Shrink model to first 706 iterations.\n",
            "==================================================\n",
            "Learning rate set to 0.042452\n",
            "0:\tlearn: 0.6071602\ttest: 0.6068821\tbest: 0.6068821 (0)\ttotal: 485ms\tremaining: 8m 4s\n",
            "bestTest = 0.6805299963\n",
            "bestIteration = 723\n",
            "Shrink model to first 724 iterations.\n",
            "==================================================\n",
            "Learning rate set to 0.042452\n",
            "0:\tlearn: 0.5963457\ttest: 0.5942806\tbest: 0.5942806 (0)\ttotal: 478ms\tremaining: 7m 57s\n",
            "bestTest = 0.6818257412\n",
            "bestIteration = 579\n",
            "Shrink model to first 580 iterations.\n",
            "==================================================\n",
            "Learning rate set to 0.042452\n",
            "0:\tlearn: 0.6261198\ttest: 0.6248006\tbest: 0.6248006 (0)\ttotal: 485ms\tremaining: 8m 4s\n",
            "bestTest = 0.6793669402\n",
            "bestIteration = 733\n",
            "Shrink model to first 734 iterations.\n"
          ]
        }
      ]
    },
    {
      "cell_type": "markdown",
      "source": [
        "## score check"
      ],
      "metadata": {
        "id": "1_a2_yqqLF9M"
      }
    },
    {
      "cell_type": "code",
      "source": [
        "print(scores)\n",
        "print(np.mean(scores))"
      ],
      "metadata": {
        "colab": {
          "base_uri": "https://localhost:8080/"
        },
        "id": "LpumWH7BpaAT",
        "outputId": "75ea9dd0-61b5-45fe-f3a0-4c192ffc785f"
      },
      "execution_count": null,
      "outputs": [
        {
          "output_type": "stream",
          "name": "stdout",
          "text": [
            "[0.6778526525258921, 0.6859542125103436, 0.6798174986580785, 0.6823729948558731, 0.680644814945473, 0.6805299963194699, 0.6818257411971033, 0.67936694021102]\n",
            "0.6810456064029067\n"
          ]
        }
      ]
    },
    {
      "cell_type": "markdown",
      "source": [
        "## final"
      ],
      "metadata": {
        "id": "Qn2pNaEzF13j"
      }
    },
    {
      "cell_type": "markdown",
      "source": [
        "### threshold 정의"
      ],
      "metadata": {
        "id": "3uSjcDJRLV-0"
      }
    },
    {
      "cell_type": "code",
      "source": [
        "threshold = 0.4"
      ],
      "metadata": {
        "id": "iKyEfyH3D9uB"
      },
      "execution_count": null,
      "outputs": []
    },
    {
      "cell_type": "markdown",
      "source": [
        "### threshold값에 따른 train final score"
      ],
      "metadata": {
        "id": "7CmILp45LaIN"
      }
    },
    {
      "cell_type": "code",
      "source": [
        "pred_list = []\n",
        "scores = []\n",
        "for i,(tri, vai) in enumerate( cv.split(x_train) ):\n",
        "    pred = models[i].predict_proba(x_train.iloc[vai])[:, 1]\n",
        "    pred = np.where(pred >= threshold , 1, 0)\n",
        "    score = f1_score(y_train[vai],pred)\n",
        "    scores.append(score)\n",
        "    pred = models[i].predict_proba(x_test)[:, 1]\n",
        "    pred_list.append(pred)\n",
        "print(scores)\n",
        "print(np.mean(scores))"
      ],
      "metadata": {
        "colab": {
          "base_uri": "https://localhost:8080/"
        },
        "id": "HtCkXEYNpg_V",
        "outputId": "70c5944e-a589-4fbd-c22f-a39f52d0b2fe"
      },
      "execution_count": null,
      "outputs": [
        {
          "output_type": "stream",
          "name": "stdout",
          "text": [
            "[0.7091916682591248, 0.715403672971804, 0.7063211966692204, 0.7105068945426296, 0.7107961083795377, 0.713913714816608, 0.7081548387096774, 0.7109034594991863]\n",
            "0.7106489442309736\n"
          ]
        }
      ]
    },
    {
      "cell_type": "markdown",
      "source": [
        "### 산술평균"
      ],
      "metadata": {
        "id": "6Sx_udFxLeMc"
      }
    },
    {
      "cell_type": "code",
      "source": [
        "pred = np.mean( pred_list , axis = 0 )\n",
        "pred = np.where(pred >= threshold , 1, 0)"
      ],
      "metadata": {
        "id": "IMu3OjJjphPB"
      },
      "execution_count": null,
      "outputs": []
    },
    {
      "cell_type": "markdown",
      "source": [
        "### save submission"
      ],
      "metadata": {
        "id": "R63TFc2QLs8l"
      }
    },
    {
      "cell_type": "code",
      "source": [
        "sample_submission = pd.read_csv(f'{DATA_PATH}sample_submission.csv')\n",
        "sample_submission['target'] = pred\n",
        "sample_submission"
      ],
      "metadata": {
        "colab": {
          "base_uri": "https://localhost:8080/",
          "height": 423
        },
        "id": "DoKb5XRIphX0",
        "outputId": "45f01bed-d599-46f1-a4c3-873506b71b0d"
      },
      "execution_count": null,
      "outputs": [
        {
          "output_type": "execute_result",
          "data": {
            "text/html": [
              "\n",
              "  <div id=\"df-52baf7b3-ad6f-4539-85a3-8ba0a1e5c0ba\">\n",
              "    <div class=\"colab-df-container\">\n",
              "      <div>\n",
              "<style scoped>\n",
              "    .dataframe tbody tr th:only-of-type {\n",
              "        vertical-align: middle;\n",
              "    }\n",
              "\n",
              "    .dataframe tbody tr th {\n",
              "        vertical-align: top;\n",
              "    }\n",
              "\n",
              "    .dataframe thead th {\n",
              "        text-align: right;\n",
              "    }\n",
              "</style>\n",
              "<table border=\"1\" class=\"dataframe\">\n",
              "  <thead>\n",
              "    <tr style=\"text-align: right;\">\n",
              "      <th></th>\n",
              "      <th>id</th>\n",
              "      <th>target</th>\n",
              "    </tr>\n",
              "  </thead>\n",
              "  <tbody>\n",
              "    <tr>\n",
              "      <th>0</th>\n",
              "      <td>0</td>\n",
              "      <td>1</td>\n",
              "    </tr>\n",
              "    <tr>\n",
              "      <th>1</th>\n",
              "      <td>1</td>\n",
              "      <td>0</td>\n",
              "    </tr>\n",
              "    <tr>\n",
              "      <th>2</th>\n",
              "      <td>2</td>\n",
              "      <td>1</td>\n",
              "    </tr>\n",
              "    <tr>\n",
              "      <th>3</th>\n",
              "      <td>3</td>\n",
              "      <td>0</td>\n",
              "    </tr>\n",
              "    <tr>\n",
              "      <th>4</th>\n",
              "      <td>4</td>\n",
              "      <td>0</td>\n",
              "    </tr>\n",
              "    <tr>\n",
              "      <th>...</th>\n",
              "      <td>...</td>\n",
              "      <td>...</td>\n",
              "    </tr>\n",
              "    <tr>\n",
              "      <th>46399</th>\n",
              "      <td>46399</td>\n",
              "      <td>1</td>\n",
              "    </tr>\n",
              "    <tr>\n",
              "      <th>46400</th>\n",
              "      <td>46400</td>\n",
              "      <td>1</td>\n",
              "    </tr>\n",
              "    <tr>\n",
              "      <th>46401</th>\n",
              "      <td>46401</td>\n",
              "      <td>1</td>\n",
              "    </tr>\n",
              "    <tr>\n",
              "      <th>46402</th>\n",
              "      <td>46402</td>\n",
              "      <td>1</td>\n",
              "    </tr>\n",
              "    <tr>\n",
              "      <th>46403</th>\n",
              "      <td>46403</td>\n",
              "      <td>1</td>\n",
              "    </tr>\n",
              "  </tbody>\n",
              "</table>\n",
              "<p>46404 rows × 2 columns</p>\n",
              "</div>\n",
              "      <button class=\"colab-df-convert\" onclick=\"convertToInteractive('df-52baf7b3-ad6f-4539-85a3-8ba0a1e5c0ba')\"\n",
              "              title=\"Convert this dataframe to an interactive table.\"\n",
              "              style=\"display:none;\">\n",
              "        \n",
              "  <svg xmlns=\"http://www.w3.org/2000/svg\" height=\"24px\"viewBox=\"0 0 24 24\"\n",
              "       width=\"24px\">\n",
              "    <path d=\"M0 0h24v24H0V0z\" fill=\"none\"/>\n",
              "    <path d=\"M18.56 5.44l.94 2.06.94-2.06 2.06-.94-2.06-.94-.94-2.06-.94 2.06-2.06.94zm-11 1L8.5 8.5l.94-2.06 2.06-.94-2.06-.94L8.5 2.5l-.94 2.06-2.06.94zm10 10l.94 2.06.94-2.06 2.06-.94-2.06-.94-.94-2.06-.94 2.06-2.06.94z\"/><path d=\"M17.41 7.96l-1.37-1.37c-.4-.4-.92-.59-1.43-.59-.52 0-1.04.2-1.43.59L10.3 9.45l-7.72 7.72c-.78.78-.78 2.05 0 2.83L4 21.41c.39.39.9.59 1.41.59.51 0 1.02-.2 1.41-.59l7.78-7.78 2.81-2.81c.8-.78.8-2.07 0-2.86zM5.41 20L4 18.59l7.72-7.72 1.47 1.35L5.41 20z\"/>\n",
              "  </svg>\n",
              "      </button>\n",
              "      \n",
              "  <style>\n",
              "    .colab-df-container {\n",
              "      display:flex;\n",
              "      flex-wrap:wrap;\n",
              "      gap: 12px;\n",
              "    }\n",
              "\n",
              "    .colab-df-convert {\n",
              "      background-color: #E8F0FE;\n",
              "      border: none;\n",
              "      border-radius: 50%;\n",
              "      cursor: pointer;\n",
              "      display: none;\n",
              "      fill: #1967D2;\n",
              "      height: 32px;\n",
              "      padding: 0 0 0 0;\n",
              "      width: 32px;\n",
              "    }\n",
              "\n",
              "    .colab-df-convert:hover {\n",
              "      background-color: #E2EBFA;\n",
              "      box-shadow: 0px 1px 2px rgba(60, 64, 67, 0.3), 0px 1px 3px 1px rgba(60, 64, 67, 0.15);\n",
              "      fill: #174EA6;\n",
              "    }\n",
              "\n",
              "    [theme=dark] .colab-df-convert {\n",
              "      background-color: #3B4455;\n",
              "      fill: #D2E3FC;\n",
              "    }\n",
              "\n",
              "    [theme=dark] .colab-df-convert:hover {\n",
              "      background-color: #434B5C;\n",
              "      box-shadow: 0px 1px 3px 1px rgba(0, 0, 0, 0.15);\n",
              "      filter: drop-shadow(0px 1px 2px rgba(0, 0, 0, 0.3));\n",
              "      fill: #FFFFFF;\n",
              "    }\n",
              "  </style>\n",
              "\n",
              "      <script>\n",
              "        const buttonEl =\n",
              "          document.querySelector('#df-52baf7b3-ad6f-4539-85a3-8ba0a1e5c0ba button.colab-df-convert');\n",
              "        buttonEl.style.display =\n",
              "          google.colab.kernel.accessAllowed ? 'block' : 'none';\n",
              "\n",
              "        async function convertToInteractive(key) {\n",
              "          const element = document.querySelector('#df-52baf7b3-ad6f-4539-85a3-8ba0a1e5c0ba');\n",
              "          const dataTable =\n",
              "            await google.colab.kernel.invokeFunction('convertToInteractive',\n",
              "                                                     [key], {});\n",
              "          if (!dataTable) return;\n",
              "\n",
              "          const docLinkHtml = 'Like what you see? Visit the ' +\n",
              "            '<a target=\"_blank\" href=https://colab.research.google.com/notebooks/data_table.ipynb>data table notebook</a>'\n",
              "            + ' to learn more about interactive tables.';\n",
              "          element.innerHTML = '';\n",
              "          dataTable['output_type'] = 'display_data';\n",
              "          await google.colab.output.renderOutput(dataTable, element);\n",
              "          const docLink = document.createElement('div');\n",
              "          docLink.innerHTML = docLinkHtml;\n",
              "          element.appendChild(docLink);\n",
              "        }\n",
              "      </script>\n",
              "    </div>\n",
              "  </div>\n",
              "  "
            ],
            "text/plain": [
              "          id  target\n",
              "0          0       1\n",
              "1          1       0\n",
              "2          2       1\n",
              "3          3       0\n",
              "4          4       0\n",
              "...      ...     ...\n",
              "46399  46399       1\n",
              "46400  46400       1\n",
              "46401  46401       1\n",
              "46402  46402       1\n",
              "46403  46403       1\n",
              "\n",
              "[46404 rows x 2 columns]"
            ]
          },
          "metadata": {},
          "execution_count": 30
        }
      ]
    },
    {
      "cell_type": "markdown",
      "source": [
        "#### save csv"
      ],
      "metadata": {
        "id": "u0a6ZuAtLzWk"
      }
    },
    {
      "cell_type": "code",
      "source": [
        "sample_submission.to_csv(f\"{SUBMIT_PATH}KSM_0.7106_0124_0.4th.csv\", index=False)"
      ],
      "metadata": {
        "id": "h6MNQcwyphf8"
      },
      "execution_count": null,
      "outputs": []
    }
  ]
}